{
 "cells": [
  {
   "cell_type": "markdown",
   "metadata": {},
   "source": [
    "# Буканов Никита, Лабораторная работа №4"
   ]
  },
  {
   "cell_type": "code",
   "execution_count": 278,
   "metadata": {
    "ExecuteTime": {
     "end_time": "2019-03-24T13:04:01.450546Z",
     "start_time": "2019-03-24T13:04:01.444542Z"
    }
   },
   "outputs": [],
   "source": [
    "%matplotlib notebook\n",
    "\n",
    "from scipy.optimize import linprog\n",
    "\n",
    "import numpy as np\n",
    "import pandas as pd\n",
    "import matplotlib.pyplot as plt"
   ]
  },
  {
   "cell_type": "markdown",
   "metadata": {},
   "source": [
    "## Задание №1\n",
    "\n",
    "Предприятие выпускает скоропортящуюся продукцию двух видов. Данные о ее себестоимости, отпускных ценах и объемах реализации приведены в таблице:\n",
    "\n",
    "|Вид продукции|Себестоимость ед. продукции|Отпускная цена в день изготовления|Отпускная цена позже|Объем реализации в теплую погоду|Объем реализации в холодную погоду|\n",
    "|---|---|---|---|---|---|\n",
    "|1| 0.8| 1.2| 0.3| 1000| 4000|\n",
    "|2 |0.5 |0.8 |0.2 |6000 |1200|\n",
    "\n",
    "На реализацию всей произведенной продукции расходуется 200 у.е. Определить ежедневный объем производства продукции по видам, обеспечивающий предприятию наибольший доход.\n"
   ]
  },
  {
   "cell_type": "code",
   "execution_count": 195,
   "metadata": {
    "ExecuteTime": {
     "end_time": "2019-03-24T09:39:55.116226Z",
     "start_time": "2019-03-24T09:39:55.101223Z"
    },
    "code_folding": []
   },
   "outputs": [
    {
     "data": {
      "text/plain": [
       "array([[2200., -740.],\n",
       "       [-680., 1960.]])"
      ]
     },
     "execution_count": 195,
     "metadata": {},
     "output_type": "execute_result"
    }
   ],
   "source": [
    "class product():\n",
    "    def __init__(self, s1, s2, s3, s4, s5):\n",
    "        self.s_price = s1\n",
    "        self.price_1 = s2\n",
    "        self.price_2 = s3\n",
    "        self.sell_1 = s4\n",
    "        self.sell_2 = s5\n",
    "        \n",
    "product_1 = product(0.8, 1.2, 0.3, 1000, 4000)\n",
    "product_2 = product(0.5, 0.8, 0.2, 6000, 1200)\n",
    "payment_matrix = np.zeros((2,2))\n",
    "\n",
    "def profit(p, S, V):\n",
    "    if V <= S:\n",
    "        return V*(p.price_1 - p.s_price)\n",
    "    else:\n",
    "        return S*(p.price_1 - p.s_price)-(V-S)*(p.s_price - p.price_2)\n",
    "\n",
    "for i, s in enumerate([product_1.sell_1, product_1.sell_2]):\n",
    "    for j, t in enumerate([product_1.sell_1, product_1.sell_2]):\n",
    "        payment_matrix[i][j] += profit(product_1, s, t)\n",
    "for i, s in enumerate([product_2.sell_1, product_2.sell_2]):\n",
    "    for j, t in enumerate([product_2.sell_1, product_2.sell_2]):\n",
    "        payment_matrix[i][j] += profit(product_2, s, t)\n",
    "        \n",
    "payment_matrix"
   ]
  },
  {
   "cell_type": "code",
   "execution_count": 110,
   "metadata": {
    "ExecuteTime": {
     "end_time": "2019-03-24T08:56:05.525797Z",
     "start_time": "2019-03-24T08:56:05.522796Z"
    }
   },
   "outputs": [],
   "source": [
    "c = [-1, -1]"
   ]
  },
  {
   "cell_type": "code",
   "execution_count": 196,
   "metadata": {
    "ExecuteTime": {
     "end_time": "2019-03-24T09:39:56.228509Z",
     "start_time": "2019-03-24T09:39:56.221499Z"
    }
   },
   "outputs": [
    {
     "data": {
      "text/plain": [
       "     fun: -0.0014650283553875238\n",
       " message: 'Optimization terminated successfully.'\n",
       "     nit: 2\n",
       "   slack: array([0., 0.])\n",
       "  status: 0\n",
       " success: True\n",
       "       x: array([0.00070888, 0.00075614])"
      ]
     },
     "execution_count": 196,
     "metadata": {},
     "output_type": "execute_result"
    }
   ],
   "source": [
    "x = linprog([-1, -1], payment_matrix, [1, 1])\n",
    "x"
   ]
  },
  {
   "cell_type": "code",
   "execution_count": 197,
   "metadata": {
    "ExecuteTime": {
     "end_time": "2019-03-24T09:40:00.704737Z",
     "start_time": "2019-03-24T09:40:00.700725Z"
    }
   },
   "outputs": [],
   "source": [
    "X = -x['x']/x['fun']"
   ]
  },
  {
   "cell_type": "code",
   "execution_count": 198,
   "metadata": {
    "ExecuteTime": {
     "end_time": "2019-03-24T09:40:01.094983Z",
     "start_time": "2019-03-24T09:40:01.090980Z"
    }
   },
   "outputs": [
    {
     "data": {
      "text/plain": [
       "array([0.48387097, 0.51612903])"
      ]
     },
     "execution_count": 198,
     "metadata": {},
     "output_type": "execute_result"
    }
   ],
   "source": [
    "X"
   ]
  },
  {
   "cell_type": "code",
   "execution_count": 199,
   "metadata": {
    "ExecuteTime": {
     "end_time": "2019-03-24T09:40:01.446534Z",
     "start_time": "2019-03-24T09:40:01.441451Z"
    }
   },
   "outputs": [
    {
     "data": {
      "text/plain": [
       "2548.3870967741937"
      ]
     },
     "execution_count": 199,
     "metadata": {},
     "output_type": "execute_result"
    }
   ],
   "source": [
    "product_1.sell_1 * X[0] + product_1.sell_2 * X[1]"
   ]
  },
  {
   "cell_type": "code",
   "execution_count": 200,
   "metadata": {
    "ExecuteTime": {
     "end_time": "2019-03-24T09:40:01.876934Z",
     "start_time": "2019-03-24T09:40:01.871933Z"
    }
   },
   "outputs": [
    {
     "data": {
      "text/plain": [
       "3522.5806451612902"
      ]
     },
     "execution_count": 200,
     "metadata": {},
     "output_type": "execute_result"
    }
   ],
   "source": [
    "product_2.sell_1 * X[0] + product_2.sell_2 * X[1]"
   ]
  },
  {
   "cell_type": "markdown",
   "metadata": {},
   "source": [
    "## Задание №2\n",
    "На технологическую линию поступает сырье с малым или большим количеством примесей. Линия может работать в трех режимах. Доход предприятия от реализации единицы продукции, изготовленной из сырья первого вида при различных режимах работы технологической линии, составляет соответственно 2, 5 и 6 у.е., а из сырья второго вида — 5, 3 и 1 у.е. Сколько времени в каждом режиме должна работать технологическая линия, чтобы доход от реализации продукции был максимальным?"
   ]
  },
  {
   "cell_type": "code",
   "execution_count": 207,
   "metadata": {
    "ExecuteTime": {
     "end_time": "2019-03-24T12:31:29.819213Z",
     "start_time": "2019-03-24T12:31:29.814211Z"
    }
   },
   "outputs": [],
   "source": [
    "payment_matrix = np.array([[-2, -5, -6],\n",
    "                           [-5, -3, -1]])"
   ]
  },
  {
   "cell_type": "code",
   "execution_count": 208,
   "metadata": {
    "ExecuteTime": {
     "end_time": "2019-03-24T12:31:30.421182Z",
     "start_time": "2019-03-24T12:31:30.413181Z"
    }
   },
   "outputs": [
    {
     "data": {
      "text/plain": [
       "     fun: 0.2631578947368421\n",
       " message: 'Optimization terminated successfully.'\n",
       "     nit: 2\n",
       "   slack: array([0., 0.])\n",
       "  status: 0\n",
       " success: True\n",
       "       x: array([0.10526316, 0.15789474, 0.        ])"
      ]
     },
     "execution_count": 208,
     "metadata": {},
     "output_type": "execute_result"
    }
   ],
   "source": [
    "c = [1, 1, 1]\n",
    "A = payment_matrix\n",
    "b = [-1, -1]\n",
    "\n",
    "x1_bounds = (0, None)\n",
    "x2_bounds = (0, None)\n",
    "x3_bounds = (0, None)\n",
    "\n",
    "x = linprog(c, A_ub=A, b_ub=b)\n",
    "x"
   ]
  },
  {
   "cell_type": "code",
   "execution_count": 209,
   "metadata": {
    "ExecuteTime": {
     "end_time": "2019-03-24T12:31:30.912193Z",
     "start_time": "2019-03-24T12:31:30.909192Z"
    }
   },
   "outputs": [],
   "source": [
    "X = x['x']/x['fun']"
   ]
  },
  {
   "cell_type": "code",
   "execution_count": 210,
   "metadata": {
    "ExecuteTime": {
     "end_time": "2019-03-24T12:31:31.441136Z",
     "start_time": "2019-03-24T12:31:31.437136Z"
    }
   },
   "outputs": [
    {
     "data": {
      "text/plain": [
       "array([0.4, 0.6, 0. ])"
      ]
     },
     "execution_count": 210,
     "metadata": {},
     "output_type": "execute_result"
    }
   ],
   "source": [
    "X"
   ]
  },
  {
   "cell_type": "markdown",
   "metadata": {},
   "source": [
    "## Задание №3\n",
    "В новом жилом районе создается СТОА (автосервис) для ремонта в стационарных условиях не более 8 тыс. автомобилей в год. Для упрощения модели примем, что в подобных районах поток заявок на ремонт выражается числами 2, 4, 6 и 8 тыс. заявок в год. Прибыль от одного акта ремонта составляет 90 у.е., потери, вызванные отказом в ремонте из-за недостатка мощностей — 50 у.е.; а убытки от простоя специалистов и оборудования при отсутствии заявок — 60 у.е. Дать обоснованные рекомендации о мощности станции. Оптимум выбирать по критериям Байеса, Вальда, Сэвиджа и Гурвица."
   ]
  },
  {
   "cell_type": "code",
   "execution_count": 235,
   "metadata": {
    "ExecuteTime": {
     "end_time": "2019-03-24T12:51:16.899784Z",
     "start_time": "2019-03-24T12:51:16.890784Z"
    }
   },
   "outputs": [
    {
     "data": {
      "text/plain": [
       "array([[ 180.,   80.,  -20., -120.],\n",
       "       [  60.,  360.,  260.,  160.],\n",
       "       [ -60.,  240.,  540.,  440.],\n",
       "       [-180.,  120.,  420.,  720.]])"
      ]
     },
     "execution_count": 235,
     "metadata": {},
     "output_type": "execute_result"
    }
   ],
   "source": [
    "a = [2, 4, 6, 8]\n",
    "payment_matrix = np.zeros((4,4))\n",
    "for i, p_1 in enumerate(a):\n",
    "    for j, p_2 in enumerate(a):\n",
    "        payment_matrix[i][j] = np.minimum(p_1, p_2)*90\n",
    "        payment_matrix[i][j] -= np.maximum(0, 60*(p_2 - p_1))\n",
    "        payment_matrix[i][j] -= np.maximum(0, 50*(p_1 - p_2))\n",
    "payment_matrix = payment_matrix.T\n",
    "payment_matrix"
   ]
  },
  {
   "cell_type": "markdown",
   "metadata": {},
   "source": [
    "### Критерий Байеса"
   ]
  },
  {
   "cell_type": "code",
   "execution_count": 240,
   "metadata": {
    "ExecuteTime": {
     "end_time": "2019-03-24T12:53:38.337183Z",
     "start_time": "2019-03-24T12:53:38.332180Z"
    }
   },
   "outputs": [
    {
     "data": {
      "text/plain": [
       "array([ 30., 210., 290., 270.])"
      ]
     },
     "execution_count": 240,
     "metadata": {},
     "output_type": "execute_result"
    }
   ],
   "source": [
    "res = payment_matrix.mean(axis=1)\n",
    "res"
   ]
  },
  {
   "cell_type": "markdown",
   "metadata": {
    "variables": {
     "a[np.argmax (res)]": "6",
     "a[np.argmax-(res)]": "<p><strong>TypeError</strong>: unsupported operand type(s) for -: &#39;function&#39; and &#39;float&#39;</p>\n"
    }
   },
   "source": [
    "#### Рекомендуемая мощность:  {{a[np.argmax (res)]}}"
   ]
  },
  {
   "cell_type": "markdown",
   "metadata": {},
   "source": [
    "### Критерий Вальда"
   ]
  },
  {
   "cell_type": "code",
   "execution_count": 241,
   "metadata": {
    "ExecuteTime": {
     "end_time": "2019-03-24T12:53:39.360168Z",
     "start_time": "2019-03-24T12:53:39.355166Z"
    }
   },
   "outputs": [
    {
     "data": {
      "text/plain": [
       "array([-120.,   60.,  -60., -180.])"
      ]
     },
     "execution_count": 241,
     "metadata": {},
     "output_type": "execute_result"
    }
   ],
   "source": [
    "res = payment_matrix.min(axis=1)\n",
    "res "
   ]
  },
  {
   "cell_type": "markdown",
   "metadata": {
    "variables": {
     "a[np.argmax (res)]": "4",
     "a[np.argmax-(res)]": "<p><strong>TypeError</strong>: unsupported operand type(s) for -: &#39;function&#39; and &#39;float&#39;</p>\n"
    }
   },
   "source": [
    "#### Рекомендуемая мощность:  {{a[np.argmax (res)]}}"
   ]
  },
  {
   "cell_type": "markdown",
   "metadata": {},
   "source": [
    "### Критерий Сэвиджа"
   ]
  },
  {
   "cell_type": "code",
   "execution_count": 247,
   "metadata": {
    "ExecuteTime": {
     "end_time": "2019-03-24T12:55:12.415627Z",
     "start_time": "2019-03-24T12:55:12.410616Z"
    }
   },
   "outputs": [
    {
     "data": {
      "text/plain": [
       "array([[  0., 280., 560., 840.],\n",
       "       [120.,   0., 280., 560.],\n",
       "       [240., 120.,   0., 280.],\n",
       "       [360., 240., 120.,   0.]])"
      ]
     },
     "execution_count": 247,
     "metadata": {},
     "output_type": "execute_result"
    }
   ],
   "source": [
    "R = payment_matrix.max(axis=0) - payment_matrix\n",
    "R"
   ]
  },
  {
   "cell_type": "code",
   "execution_count": 246,
   "metadata": {
    "ExecuteTime": {
     "end_time": "2019-03-24T12:55:08.687419Z",
     "start_time": "2019-03-24T12:55:08.683428Z"
    }
   },
   "outputs": [
    {
     "data": {
      "text/plain": [
       "array([840., 560., 280., 360.])"
      ]
     },
     "execution_count": 246,
     "metadata": {},
     "output_type": "execute_result"
    }
   ],
   "source": [
    "R.max(axis=1)"
   ]
  },
  {
   "cell_type": "markdown",
   "metadata": {
    "variables": {
     "a[np.argmin (R)]": "2",
     "a[np.argmin-(R)]": "<p><strong>TypeError</strong>: unsupported operand type(s) for -: &#39;function&#39; and &#39;float&#39;</p>\n"
    }
   },
   "source": [
    "#### Рекомендуемая мощность:  {{a[np.argmin (R)]}}"
   ]
  },
  {
   "cell_type": "markdown",
   "metadata": {},
   "source": [
    "### Критерий Гурвица"
   ]
  },
  {
   "cell_type": "code",
   "execution_count": 277,
   "metadata": {
    "ExecuteTime": {
     "end_time": "2019-03-24T13:03:23.791581Z",
     "start_time": "2019-03-24T13:03:23.767576Z"
    }
   },
   "outputs": [
    {
     "data": {
      "application/javascript": [
       "/* Put everything inside the global mpl namespace */\n",
       "window.mpl = {};\n",
       "\n",
       "\n",
       "mpl.get_websocket_type = function() {\n",
       "    if (typeof(WebSocket) !== 'undefined') {\n",
       "        return WebSocket;\n",
       "    } else if (typeof(MozWebSocket) !== 'undefined') {\n",
       "        return MozWebSocket;\n",
       "    } else {\n",
       "        alert('Your browser does not have WebSocket support.' +\n",
       "              'Please try Chrome, Safari or Firefox ≥ 6. ' +\n",
       "              'Firefox 4 and 5 are also supported but you ' +\n",
       "              'have to enable WebSockets in about:config.');\n",
       "    };\n",
       "}\n",
       "\n",
       "mpl.figure = function(figure_id, websocket, ondownload, parent_element) {\n",
       "    this.id = figure_id;\n",
       "\n",
       "    this.ws = websocket;\n",
       "\n",
       "    this.supports_binary = (this.ws.binaryType != undefined);\n",
       "\n",
       "    if (!this.supports_binary) {\n",
       "        var warnings = document.getElementById(\"mpl-warnings\");\n",
       "        if (warnings) {\n",
       "            warnings.style.display = 'block';\n",
       "            warnings.textContent = (\n",
       "                \"This browser does not support binary websocket messages. \" +\n",
       "                    \"Performance may be slow.\");\n",
       "        }\n",
       "    }\n",
       "\n",
       "    this.imageObj = new Image();\n",
       "\n",
       "    this.context = undefined;\n",
       "    this.message = undefined;\n",
       "    this.canvas = undefined;\n",
       "    this.rubberband_canvas = undefined;\n",
       "    this.rubberband_context = undefined;\n",
       "    this.format_dropdown = undefined;\n",
       "\n",
       "    this.image_mode = 'full';\n",
       "\n",
       "    this.root = $('<div/>');\n",
       "    this._root_extra_style(this.root)\n",
       "    this.root.attr('style', 'display: inline-block');\n",
       "\n",
       "    $(parent_element).append(this.root);\n",
       "\n",
       "    this._init_header(this);\n",
       "    this._init_canvas(this);\n",
       "    this._init_toolbar(this);\n",
       "\n",
       "    var fig = this;\n",
       "\n",
       "    this.waiting = false;\n",
       "\n",
       "    this.ws.onopen =  function () {\n",
       "            fig.send_message(\"supports_binary\", {value: fig.supports_binary});\n",
       "            fig.send_message(\"send_image_mode\", {});\n",
       "            if (mpl.ratio != 1) {\n",
       "                fig.send_message(\"set_dpi_ratio\", {'dpi_ratio': mpl.ratio});\n",
       "            }\n",
       "            fig.send_message(\"refresh\", {});\n",
       "        }\n",
       "\n",
       "    this.imageObj.onload = function() {\n",
       "            if (fig.image_mode == 'full') {\n",
       "                // Full images could contain transparency (where diff images\n",
       "                // almost always do), so we need to clear the canvas so that\n",
       "                // there is no ghosting.\n",
       "                fig.context.clearRect(0, 0, fig.canvas.width, fig.canvas.height);\n",
       "            }\n",
       "            fig.context.drawImage(fig.imageObj, 0, 0);\n",
       "        };\n",
       "\n",
       "    this.imageObj.onunload = function() {\n",
       "        fig.ws.close();\n",
       "    }\n",
       "\n",
       "    this.ws.onmessage = this._make_on_message_function(this);\n",
       "\n",
       "    this.ondownload = ondownload;\n",
       "}\n",
       "\n",
       "mpl.figure.prototype._init_header = function() {\n",
       "    var titlebar = $(\n",
       "        '<div class=\"ui-dialog-titlebar ui-widget-header ui-corner-all ' +\n",
       "        'ui-helper-clearfix\"/>');\n",
       "    var titletext = $(\n",
       "        '<div class=\"ui-dialog-title\" style=\"width: 100%; ' +\n",
       "        'text-align: center; padding: 3px;\"/>');\n",
       "    titlebar.append(titletext)\n",
       "    this.root.append(titlebar);\n",
       "    this.header = titletext[0];\n",
       "}\n",
       "\n",
       "\n",
       "\n",
       "mpl.figure.prototype._canvas_extra_style = function(canvas_div) {\n",
       "\n",
       "}\n",
       "\n",
       "\n",
       "mpl.figure.prototype._root_extra_style = function(canvas_div) {\n",
       "\n",
       "}\n",
       "\n",
       "mpl.figure.prototype._init_canvas = function() {\n",
       "    var fig = this;\n",
       "\n",
       "    var canvas_div = $('<div/>');\n",
       "\n",
       "    canvas_div.attr('style', 'position: relative; clear: both; outline: 0');\n",
       "\n",
       "    function canvas_keyboard_event(event) {\n",
       "        return fig.key_event(event, event['data']);\n",
       "    }\n",
       "\n",
       "    canvas_div.keydown('key_press', canvas_keyboard_event);\n",
       "    canvas_div.keyup('key_release', canvas_keyboard_event);\n",
       "    this.canvas_div = canvas_div\n",
       "    this._canvas_extra_style(canvas_div)\n",
       "    this.root.append(canvas_div);\n",
       "\n",
       "    var canvas = $('<canvas/>');\n",
       "    canvas.addClass('mpl-canvas');\n",
       "    canvas.attr('style', \"left: 0; top: 0; z-index: 0; outline: 0\")\n",
       "\n",
       "    this.canvas = canvas[0];\n",
       "    this.context = canvas[0].getContext(\"2d\");\n",
       "\n",
       "    var backingStore = this.context.backingStorePixelRatio ||\n",
       "\tthis.context.webkitBackingStorePixelRatio ||\n",
       "\tthis.context.mozBackingStorePixelRatio ||\n",
       "\tthis.context.msBackingStorePixelRatio ||\n",
       "\tthis.context.oBackingStorePixelRatio ||\n",
       "\tthis.context.backingStorePixelRatio || 1;\n",
       "\n",
       "    mpl.ratio = (window.devicePixelRatio || 1) / backingStore;\n",
       "\n",
       "    var rubberband = $('<canvas/>');\n",
       "    rubberband.attr('style', \"position: absolute; left: 0; top: 0; z-index: 1;\")\n",
       "\n",
       "    var pass_mouse_events = true;\n",
       "\n",
       "    canvas_div.resizable({\n",
       "        start: function(event, ui) {\n",
       "            pass_mouse_events = false;\n",
       "        },\n",
       "        resize: function(event, ui) {\n",
       "            fig.request_resize(ui.size.width, ui.size.height);\n",
       "        },\n",
       "        stop: function(event, ui) {\n",
       "            pass_mouse_events = true;\n",
       "            fig.request_resize(ui.size.width, ui.size.height);\n",
       "        },\n",
       "    });\n",
       "\n",
       "    function mouse_event_fn(event) {\n",
       "        if (pass_mouse_events)\n",
       "            return fig.mouse_event(event, event['data']);\n",
       "    }\n",
       "\n",
       "    rubberband.mousedown('button_press', mouse_event_fn);\n",
       "    rubberband.mouseup('button_release', mouse_event_fn);\n",
       "    // Throttle sequential mouse events to 1 every 20ms.\n",
       "    rubberband.mousemove('motion_notify', mouse_event_fn);\n",
       "\n",
       "    rubberband.mouseenter('figure_enter', mouse_event_fn);\n",
       "    rubberband.mouseleave('figure_leave', mouse_event_fn);\n",
       "\n",
       "    canvas_div.on(\"wheel\", function (event) {\n",
       "        event = event.originalEvent;\n",
       "        event['data'] = 'scroll'\n",
       "        if (event.deltaY < 0) {\n",
       "            event.step = 1;\n",
       "        } else {\n",
       "            event.step = -1;\n",
       "        }\n",
       "        mouse_event_fn(event);\n",
       "    });\n",
       "\n",
       "    canvas_div.append(canvas);\n",
       "    canvas_div.append(rubberband);\n",
       "\n",
       "    this.rubberband = rubberband;\n",
       "    this.rubberband_canvas = rubberband[0];\n",
       "    this.rubberband_context = rubberband[0].getContext(\"2d\");\n",
       "    this.rubberband_context.strokeStyle = \"#000000\";\n",
       "\n",
       "    this._resize_canvas = function(width, height) {\n",
       "        // Keep the size of the canvas, canvas container, and rubber band\n",
       "        // canvas in synch.\n",
       "        canvas_div.css('width', width)\n",
       "        canvas_div.css('height', height)\n",
       "\n",
       "        canvas.attr('width', width * mpl.ratio);\n",
       "        canvas.attr('height', height * mpl.ratio);\n",
       "        canvas.attr('style', 'width: ' + width + 'px; height: ' + height + 'px;');\n",
       "\n",
       "        rubberband.attr('width', width);\n",
       "        rubberband.attr('height', height);\n",
       "    }\n",
       "\n",
       "    // Set the figure to an initial 600x600px, this will subsequently be updated\n",
       "    // upon first draw.\n",
       "    this._resize_canvas(600, 600);\n",
       "\n",
       "    // Disable right mouse context menu.\n",
       "    $(this.rubberband_canvas).bind(\"contextmenu\",function(e){\n",
       "        return false;\n",
       "    });\n",
       "\n",
       "    function set_focus () {\n",
       "        canvas.focus();\n",
       "        canvas_div.focus();\n",
       "    }\n",
       "\n",
       "    window.setTimeout(set_focus, 100);\n",
       "}\n",
       "\n",
       "mpl.figure.prototype._init_toolbar = function() {\n",
       "    var fig = this;\n",
       "\n",
       "    var nav_element = $('<div/>')\n",
       "    nav_element.attr('style', 'width: 100%');\n",
       "    this.root.append(nav_element);\n",
       "\n",
       "    // Define a callback function for later on.\n",
       "    function toolbar_event(event) {\n",
       "        return fig.toolbar_button_onclick(event['data']);\n",
       "    }\n",
       "    function toolbar_mouse_event(event) {\n",
       "        return fig.toolbar_button_onmouseover(event['data']);\n",
       "    }\n",
       "\n",
       "    for(var toolbar_ind in mpl.toolbar_items) {\n",
       "        var name = mpl.toolbar_items[toolbar_ind][0];\n",
       "        var tooltip = mpl.toolbar_items[toolbar_ind][1];\n",
       "        var image = mpl.toolbar_items[toolbar_ind][2];\n",
       "        var method_name = mpl.toolbar_items[toolbar_ind][3];\n",
       "\n",
       "        if (!name) {\n",
       "            // put a spacer in here.\n",
       "            continue;\n",
       "        }\n",
       "        var button = $('<button/>');\n",
       "        button.addClass('ui-button ui-widget ui-state-default ui-corner-all ' +\n",
       "                        'ui-button-icon-only');\n",
       "        button.attr('role', 'button');\n",
       "        button.attr('aria-disabled', 'false');\n",
       "        button.click(method_name, toolbar_event);\n",
       "        button.mouseover(tooltip, toolbar_mouse_event);\n",
       "\n",
       "        var icon_img = $('<span/>');\n",
       "        icon_img.addClass('ui-button-icon-primary ui-icon');\n",
       "        icon_img.addClass(image);\n",
       "        icon_img.addClass('ui-corner-all');\n",
       "\n",
       "        var tooltip_span = $('<span/>');\n",
       "        tooltip_span.addClass('ui-button-text');\n",
       "        tooltip_span.html(tooltip);\n",
       "\n",
       "        button.append(icon_img);\n",
       "        button.append(tooltip_span);\n",
       "\n",
       "        nav_element.append(button);\n",
       "    }\n",
       "\n",
       "    var fmt_picker_span = $('<span/>');\n",
       "\n",
       "    var fmt_picker = $('<select/>');\n",
       "    fmt_picker.addClass('mpl-toolbar-option ui-widget ui-widget-content');\n",
       "    fmt_picker_span.append(fmt_picker);\n",
       "    nav_element.append(fmt_picker_span);\n",
       "    this.format_dropdown = fmt_picker[0];\n",
       "\n",
       "    for (var ind in mpl.extensions) {\n",
       "        var fmt = mpl.extensions[ind];\n",
       "        var option = $(\n",
       "            '<option/>', {selected: fmt === mpl.default_extension}).html(fmt);\n",
       "        fmt_picker.append(option)\n",
       "    }\n",
       "\n",
       "    // Add hover states to the ui-buttons\n",
       "    $( \".ui-button\" ).hover(\n",
       "        function() { $(this).addClass(\"ui-state-hover\");},\n",
       "        function() { $(this).removeClass(\"ui-state-hover\");}\n",
       "    );\n",
       "\n",
       "    var status_bar = $('<span class=\"mpl-message\"/>');\n",
       "    nav_element.append(status_bar);\n",
       "    this.message = status_bar[0];\n",
       "}\n",
       "\n",
       "mpl.figure.prototype.request_resize = function(x_pixels, y_pixels) {\n",
       "    // Request matplotlib to resize the figure. Matplotlib will then trigger a resize in the client,\n",
       "    // which will in turn request a refresh of the image.\n",
       "    this.send_message('resize', {'width': x_pixels, 'height': y_pixels});\n",
       "}\n",
       "\n",
       "mpl.figure.prototype.send_message = function(type, properties) {\n",
       "    properties['type'] = type;\n",
       "    properties['figure_id'] = this.id;\n",
       "    this.ws.send(JSON.stringify(properties));\n",
       "}\n",
       "\n",
       "mpl.figure.prototype.send_draw_message = function() {\n",
       "    if (!this.waiting) {\n",
       "        this.waiting = true;\n",
       "        this.ws.send(JSON.stringify({type: \"draw\", figure_id: this.id}));\n",
       "    }\n",
       "}\n",
       "\n",
       "\n",
       "mpl.figure.prototype.handle_save = function(fig, msg) {\n",
       "    var format_dropdown = fig.format_dropdown;\n",
       "    var format = format_dropdown.options[format_dropdown.selectedIndex].value;\n",
       "    fig.ondownload(fig, format);\n",
       "}\n",
       "\n",
       "\n",
       "mpl.figure.prototype.handle_resize = function(fig, msg) {\n",
       "    var size = msg['size'];\n",
       "    if (size[0] != fig.canvas.width || size[1] != fig.canvas.height) {\n",
       "        fig._resize_canvas(size[0], size[1]);\n",
       "        fig.send_message(\"refresh\", {});\n",
       "    };\n",
       "}\n",
       "\n",
       "mpl.figure.prototype.handle_rubberband = function(fig, msg) {\n",
       "    var x0 = msg['x0'] / mpl.ratio;\n",
       "    var y0 = (fig.canvas.height - msg['y0']) / mpl.ratio;\n",
       "    var x1 = msg['x1'] / mpl.ratio;\n",
       "    var y1 = (fig.canvas.height - msg['y1']) / mpl.ratio;\n",
       "    x0 = Math.floor(x0) + 0.5;\n",
       "    y0 = Math.floor(y0) + 0.5;\n",
       "    x1 = Math.floor(x1) + 0.5;\n",
       "    y1 = Math.floor(y1) + 0.5;\n",
       "    var min_x = Math.min(x0, x1);\n",
       "    var min_y = Math.min(y0, y1);\n",
       "    var width = Math.abs(x1 - x0);\n",
       "    var height = Math.abs(y1 - y0);\n",
       "\n",
       "    fig.rubberband_context.clearRect(\n",
       "        0, 0, fig.canvas.width, fig.canvas.height);\n",
       "\n",
       "    fig.rubberband_context.strokeRect(min_x, min_y, width, height);\n",
       "}\n",
       "\n",
       "mpl.figure.prototype.handle_figure_label = function(fig, msg) {\n",
       "    // Updates the figure title.\n",
       "    fig.header.textContent = msg['label'];\n",
       "}\n",
       "\n",
       "mpl.figure.prototype.handle_cursor = function(fig, msg) {\n",
       "    var cursor = msg['cursor'];\n",
       "    switch(cursor)\n",
       "    {\n",
       "    case 0:\n",
       "        cursor = 'pointer';\n",
       "        break;\n",
       "    case 1:\n",
       "        cursor = 'default';\n",
       "        break;\n",
       "    case 2:\n",
       "        cursor = 'crosshair';\n",
       "        break;\n",
       "    case 3:\n",
       "        cursor = 'move';\n",
       "        break;\n",
       "    }\n",
       "    fig.rubberband_canvas.style.cursor = cursor;\n",
       "}\n",
       "\n",
       "mpl.figure.prototype.handle_message = function(fig, msg) {\n",
       "    fig.message.textContent = msg['message'];\n",
       "}\n",
       "\n",
       "mpl.figure.prototype.handle_draw = function(fig, msg) {\n",
       "    // Request the server to send over a new figure.\n",
       "    fig.send_draw_message();\n",
       "}\n",
       "\n",
       "mpl.figure.prototype.handle_image_mode = function(fig, msg) {\n",
       "    fig.image_mode = msg['mode'];\n",
       "}\n",
       "\n",
       "mpl.figure.prototype.updated_canvas_event = function() {\n",
       "    // Called whenever the canvas gets updated.\n",
       "    this.send_message(\"ack\", {});\n",
       "}\n",
       "\n",
       "// A function to construct a web socket function for onmessage handling.\n",
       "// Called in the figure constructor.\n",
       "mpl.figure.prototype._make_on_message_function = function(fig) {\n",
       "    return function socket_on_message(evt) {\n",
       "        if (evt.data instanceof Blob) {\n",
       "            /* FIXME: We get \"Resource interpreted as Image but\n",
       "             * transferred with MIME type text/plain:\" errors on\n",
       "             * Chrome.  But how to set the MIME type?  It doesn't seem\n",
       "             * to be part of the websocket stream */\n",
       "            evt.data.type = \"image/png\";\n",
       "\n",
       "            /* Free the memory for the previous frames */\n",
       "            if (fig.imageObj.src) {\n",
       "                (window.URL || window.webkitURL).revokeObjectURL(\n",
       "                    fig.imageObj.src);\n",
       "            }\n",
       "\n",
       "            fig.imageObj.src = (window.URL || window.webkitURL).createObjectURL(\n",
       "                evt.data);\n",
       "            fig.updated_canvas_event();\n",
       "            fig.waiting = false;\n",
       "            return;\n",
       "        }\n",
       "        else if (typeof evt.data === 'string' && evt.data.slice(0, 21) == \"data:image/png;base64\") {\n",
       "            fig.imageObj.src = evt.data;\n",
       "            fig.updated_canvas_event();\n",
       "            fig.waiting = false;\n",
       "            return;\n",
       "        }\n",
       "\n",
       "        var msg = JSON.parse(evt.data);\n",
       "        var msg_type = msg['type'];\n",
       "\n",
       "        // Call the  \"handle_{type}\" callback, which takes\n",
       "        // the figure and JSON message as its only arguments.\n",
       "        try {\n",
       "            var callback = fig[\"handle_\" + msg_type];\n",
       "        } catch (e) {\n",
       "            console.log(\"No handler for the '\" + msg_type + \"' message type: \", msg);\n",
       "            return;\n",
       "        }\n",
       "\n",
       "        if (callback) {\n",
       "            try {\n",
       "                // console.log(\"Handling '\" + msg_type + \"' message: \", msg);\n",
       "                callback(fig, msg);\n",
       "            } catch (e) {\n",
       "                console.log(\"Exception inside the 'handler_\" + msg_type + \"' callback:\", e, e.stack, msg);\n",
       "            }\n",
       "        }\n",
       "    };\n",
       "}\n",
       "\n",
       "// from http://stackoverflow.com/questions/1114465/getting-mouse-location-in-canvas\n",
       "mpl.findpos = function(e) {\n",
       "    //this section is from http://www.quirksmode.org/js/events_properties.html\n",
       "    var targ;\n",
       "    if (!e)\n",
       "        e = window.event;\n",
       "    if (e.target)\n",
       "        targ = e.target;\n",
       "    else if (e.srcElement)\n",
       "        targ = e.srcElement;\n",
       "    if (targ.nodeType == 3) // defeat Safari bug\n",
       "        targ = targ.parentNode;\n",
       "\n",
       "    // jQuery normalizes the pageX and pageY\n",
       "    // pageX,Y are the mouse positions relative to the document\n",
       "    // offset() returns the position of the element relative to the document\n",
       "    var x = e.pageX - $(targ).offset().left;\n",
       "    var y = e.pageY - $(targ).offset().top;\n",
       "\n",
       "    return {\"x\": x, \"y\": y};\n",
       "};\n",
       "\n",
       "/*\n",
       " * return a copy of an object with only non-object keys\n",
       " * we need this to avoid circular references\n",
       " * http://stackoverflow.com/a/24161582/3208463\n",
       " */\n",
       "function simpleKeys (original) {\n",
       "  return Object.keys(original).reduce(function (obj, key) {\n",
       "    if (typeof original[key] !== 'object')\n",
       "        obj[key] = original[key]\n",
       "    return obj;\n",
       "  }, {});\n",
       "}\n",
       "\n",
       "mpl.figure.prototype.mouse_event = function(event, name) {\n",
       "    var canvas_pos = mpl.findpos(event)\n",
       "\n",
       "    if (name === 'button_press')\n",
       "    {\n",
       "        this.canvas.focus();\n",
       "        this.canvas_div.focus();\n",
       "    }\n",
       "\n",
       "    var x = canvas_pos.x * mpl.ratio;\n",
       "    var y = canvas_pos.y * mpl.ratio;\n",
       "\n",
       "    this.send_message(name, {x: x, y: y, button: event.button,\n",
       "                             step: event.step,\n",
       "                             guiEvent: simpleKeys(event)});\n",
       "\n",
       "    /* This prevents the web browser from automatically changing to\n",
       "     * the text insertion cursor when the button is pressed.  We want\n",
       "     * to control all of the cursor setting manually through the\n",
       "     * 'cursor' event from matplotlib */\n",
       "    event.preventDefault();\n",
       "    return false;\n",
       "}\n",
       "\n",
       "mpl.figure.prototype._key_event_extra = function(event, name) {\n",
       "    // Handle any extra behaviour associated with a key event\n",
       "}\n",
       "\n",
       "mpl.figure.prototype.key_event = function(event, name) {\n",
       "\n",
       "    // Prevent repeat events\n",
       "    if (name == 'key_press')\n",
       "    {\n",
       "        if (event.which === this._key)\n",
       "            return;\n",
       "        else\n",
       "            this._key = event.which;\n",
       "    }\n",
       "    if (name == 'key_release')\n",
       "        this._key = null;\n",
       "\n",
       "    var value = '';\n",
       "    if (event.ctrlKey && event.which != 17)\n",
       "        value += \"ctrl+\";\n",
       "    if (event.altKey && event.which != 18)\n",
       "        value += \"alt+\";\n",
       "    if (event.shiftKey && event.which != 16)\n",
       "        value += \"shift+\";\n",
       "\n",
       "    value += 'k';\n",
       "    value += event.which.toString();\n",
       "\n",
       "    this._key_event_extra(event, name);\n",
       "\n",
       "    this.send_message(name, {key: value,\n",
       "                             guiEvent: simpleKeys(event)});\n",
       "    return false;\n",
       "}\n",
       "\n",
       "mpl.figure.prototype.toolbar_button_onclick = function(name) {\n",
       "    if (name == 'download') {\n",
       "        this.handle_save(this, null);\n",
       "    } else {\n",
       "        this.send_message(\"toolbar_button\", {name: name});\n",
       "    }\n",
       "};\n",
       "\n",
       "mpl.figure.prototype.toolbar_button_onmouseover = function(tooltip) {\n",
       "    this.message.textContent = tooltip;\n",
       "};\n",
       "mpl.toolbar_items = [[\"Home\", \"Reset original view\", \"fa fa-home icon-home\", \"home\"], [\"Back\", \"Back to previous view\", \"fa fa-arrow-left icon-arrow-left\", \"back\"], [\"Forward\", \"Forward to next view\", \"fa fa-arrow-right icon-arrow-right\", \"forward\"], [\"\", \"\", \"\", \"\"], [\"Pan\", \"Pan axes with left mouse, zoom with right\", \"fa fa-arrows icon-move\", \"pan\"], [\"Zoom\", \"Zoom to rectangle\", \"fa fa-square-o icon-check-empty\", \"zoom\"], [\"\", \"\", \"\", \"\"], [\"Download\", \"Download plot\", \"fa fa-floppy-o icon-save\", \"download\"]];\n",
       "\n",
       "mpl.extensions = [\"eps\", \"jpeg\", \"pdf\", \"png\", \"ps\", \"raw\", \"svg\", \"tif\"];\n",
       "\n",
       "mpl.default_extension = \"png\";var comm_websocket_adapter = function(comm) {\n",
       "    // Create a \"websocket\"-like object which calls the given IPython comm\n",
       "    // object with the appropriate methods. Currently this is a non binary\n",
       "    // socket, so there is still some room for performance tuning.\n",
       "    var ws = {};\n",
       "\n",
       "    ws.close = function() {\n",
       "        comm.close()\n",
       "    };\n",
       "    ws.send = function(m) {\n",
       "        //console.log('sending', m);\n",
       "        comm.send(m);\n",
       "    };\n",
       "    // Register the callback with on_msg.\n",
       "    comm.on_msg(function(msg) {\n",
       "        //console.log('receiving', msg['content']['data'], msg);\n",
       "        // Pass the mpl event to the overridden (by mpl) onmessage function.\n",
       "        ws.onmessage(msg['content']['data'])\n",
       "    });\n",
       "    return ws;\n",
       "}\n",
       "\n",
       "mpl.mpl_figure_comm = function(comm, msg) {\n",
       "    // This is the function which gets called when the mpl process\n",
       "    // starts-up an IPython Comm through the \"matplotlib\" channel.\n",
       "\n",
       "    var id = msg.content.data.id;\n",
       "    // Get hold of the div created by the display call when the Comm\n",
       "    // socket was opened in Python.\n",
       "    var element = $(\"#\" + id);\n",
       "    var ws_proxy = comm_websocket_adapter(comm)\n",
       "\n",
       "    function ondownload(figure, format) {\n",
       "        window.open(figure.imageObj.src);\n",
       "    }\n",
       "\n",
       "    var fig = new mpl.figure(id, ws_proxy,\n",
       "                           ondownload,\n",
       "                           element.get(0));\n",
       "\n",
       "    // Call onopen now - mpl needs it, as it is assuming we've passed it a real\n",
       "    // web socket which is closed, not our websocket->open comm proxy.\n",
       "    ws_proxy.onopen();\n",
       "\n",
       "    fig.parent_element = element.get(0);\n",
       "    fig.cell_info = mpl.find_output_cell(\"<div id='\" + id + \"'></div>\");\n",
       "    if (!fig.cell_info) {\n",
       "        console.error(\"Failed to find cell for figure\", id, fig);\n",
       "        return;\n",
       "    }\n",
       "\n",
       "    var output_index = fig.cell_info[2]\n",
       "    var cell = fig.cell_info[0];\n",
       "\n",
       "};\n",
       "\n",
       "mpl.figure.prototype.handle_close = function(fig, msg) {\n",
       "    var width = fig.canvas.width/mpl.ratio\n",
       "    fig.root.unbind('remove')\n",
       "\n",
       "    // Update the output cell to use the data from the current canvas.\n",
       "    fig.push_to_output();\n",
       "    var dataURL = fig.canvas.toDataURL();\n",
       "    // Re-enable the keyboard manager in IPython - without this line, in FF,\n",
       "    // the notebook keyboard shortcuts fail.\n",
       "    IPython.keyboard_manager.enable()\n",
       "    $(fig.parent_element).html('<img src=\"' + dataURL + '\" width=\"' + width + '\">');\n",
       "    fig.close_ws(fig, msg);\n",
       "}\n",
       "\n",
       "mpl.figure.prototype.close_ws = function(fig, msg){\n",
       "    fig.send_message('closing', msg);\n",
       "    // fig.ws.close()\n",
       "}\n",
       "\n",
       "mpl.figure.prototype.push_to_output = function(remove_interactive) {\n",
       "    // Turn the data on the canvas into data in the output cell.\n",
       "    var width = this.canvas.width/mpl.ratio\n",
       "    var dataURL = this.canvas.toDataURL();\n",
       "    this.cell_info[1]['text/html'] = '<img src=\"' + dataURL + '\" width=\"' + width + '\">';\n",
       "}\n",
       "\n",
       "mpl.figure.prototype.updated_canvas_event = function() {\n",
       "    // Tell IPython that the notebook contents must change.\n",
       "    IPython.notebook.set_dirty(true);\n",
       "    this.send_message(\"ack\", {});\n",
       "    var fig = this;\n",
       "    // Wait a second, then push the new image to the DOM so\n",
       "    // that it is saved nicely (might be nice to debounce this).\n",
       "    setTimeout(function () { fig.push_to_output() }, 1000);\n",
       "}\n",
       "\n",
       "mpl.figure.prototype._init_toolbar = function() {\n",
       "    var fig = this;\n",
       "\n",
       "    var nav_element = $('<div/>')\n",
       "    nav_element.attr('style', 'width: 100%');\n",
       "    this.root.append(nav_element);\n",
       "\n",
       "    // Define a callback function for later on.\n",
       "    function toolbar_event(event) {\n",
       "        return fig.toolbar_button_onclick(event['data']);\n",
       "    }\n",
       "    function toolbar_mouse_event(event) {\n",
       "        return fig.toolbar_button_onmouseover(event['data']);\n",
       "    }\n",
       "\n",
       "    for(var toolbar_ind in mpl.toolbar_items){\n",
       "        var name = mpl.toolbar_items[toolbar_ind][0];\n",
       "        var tooltip = mpl.toolbar_items[toolbar_ind][1];\n",
       "        var image = mpl.toolbar_items[toolbar_ind][2];\n",
       "        var method_name = mpl.toolbar_items[toolbar_ind][3];\n",
       "\n",
       "        if (!name) { continue; };\n",
       "\n",
       "        var button = $('<button class=\"btn btn-default\" href=\"#\" title=\"' + name + '\"><i class=\"fa ' + image + ' fa-lg\"></i></button>');\n",
       "        button.click(method_name, toolbar_event);\n",
       "        button.mouseover(tooltip, toolbar_mouse_event);\n",
       "        nav_element.append(button);\n",
       "    }\n",
       "\n",
       "    // Add the status bar.\n",
       "    var status_bar = $('<span class=\"mpl-message\" style=\"text-align:right; float: right;\"/>');\n",
       "    nav_element.append(status_bar);\n",
       "    this.message = status_bar[0];\n",
       "\n",
       "    // Add the close button to the window.\n",
       "    var buttongrp = $('<div class=\"btn-group inline pull-right\"></div>');\n",
       "    var button = $('<button class=\"btn btn-mini btn-primary\" href=\"#\" title=\"Stop Interaction\"><i class=\"fa fa-power-off icon-remove icon-large\"></i></button>');\n",
       "    button.click(function (evt) { fig.handle_close(fig, {}); } );\n",
       "    button.mouseover('Stop Interaction', toolbar_mouse_event);\n",
       "    buttongrp.append(button);\n",
       "    var titlebar = this.root.find($('.ui-dialog-titlebar'));\n",
       "    titlebar.prepend(buttongrp);\n",
       "}\n",
       "\n",
       "mpl.figure.prototype._root_extra_style = function(el){\n",
       "    var fig = this\n",
       "    el.on(\"remove\", function(){\n",
       "\tfig.close_ws(fig, {});\n",
       "    });\n",
       "}\n",
       "\n",
       "mpl.figure.prototype._canvas_extra_style = function(el){\n",
       "    // this is important to make the div 'focusable\n",
       "    el.attr('tabindex', 0)\n",
       "    // reach out to IPython and tell the keyboard manager to turn it's self\n",
       "    // off when our div gets focus\n",
       "\n",
       "    // location in version 3\n",
       "    if (IPython.notebook.keyboard_manager) {\n",
       "        IPython.notebook.keyboard_manager.register_events(el);\n",
       "    }\n",
       "    else {\n",
       "        // location in version 2\n",
       "        IPython.keyboard_manager.register_events(el);\n",
       "    }\n",
       "\n",
       "}\n",
       "\n",
       "mpl.figure.prototype._key_event_extra = function(event, name) {\n",
       "    var manager = IPython.notebook.keyboard_manager;\n",
       "    if (!manager)\n",
       "        manager = IPython.keyboard_manager;\n",
       "\n",
       "    // Check for shift+enter\n",
       "    if (event.shiftKey && event.which == 13) {\n",
       "        this.canvas_div.blur();\n",
       "        event.shiftKey = false;\n",
       "        // Send a \"J\" for go to next cell\n",
       "        event.which = 74;\n",
       "        event.keyCode = 74;\n",
       "        manager.command_mode();\n",
       "        manager.handle_keydown(event);\n",
       "    }\n",
       "}\n",
       "\n",
       "mpl.figure.prototype.handle_save = function(fig, msg) {\n",
       "    fig.ondownload(fig, null);\n",
       "}\n",
       "\n",
       "\n",
       "mpl.find_output_cell = function(html_output) {\n",
       "    // Return the cell and output element which can be found *uniquely* in the notebook.\n",
       "    // Note - this is a bit hacky, but it is done because the \"notebook_saving.Notebook\"\n",
       "    // IPython event is triggered only after the cells have been serialised, which for\n",
       "    // our purposes (turning an active figure into a static one), is too late.\n",
       "    var cells = IPython.notebook.get_cells();\n",
       "    var ncells = cells.length;\n",
       "    for (var i=0; i<ncells; i++) {\n",
       "        var cell = cells[i];\n",
       "        if (cell.cell_type === 'code'){\n",
       "            for (var j=0; j<cell.output_area.outputs.length; j++) {\n",
       "                var data = cell.output_area.outputs[j];\n",
       "                if (data.data) {\n",
       "                    // IPython >= 3 moved mimebundle to data attribute of output\n",
       "                    data = data.data;\n",
       "                }\n",
       "                if (data['text/html'] == html_output) {\n",
       "                    return [cell, data, j];\n",
       "                }\n",
       "            }\n",
       "        }\n",
       "    }\n",
       "}\n",
       "\n",
       "// Register the function which deals with the matplotlib target/channel.\n",
       "// The kernel may be null if the page has been refreshed.\n",
       "if (IPython.notebook.kernel != null) {\n",
       "    IPython.notebook.kernel.comm_manager.register_target('matplotlib', mpl.mpl_figure_comm);\n",
       "}\n"
      ],
      "text/plain": [
       "<IPython.core.display.Javascript object>"
      ]
     },
     "metadata": {},
     "output_type": "display_data"
    },
    {
     "data": {
      "text/html": [
       "<img src=\"data:image/png;base64,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\" width=\"640\">"
      ],
      "text/plain": [
       "<IPython.core.display.HTML object>"
      ]
     },
     "metadata": {},
     "output_type": "display_data"
    }
   ],
   "source": [
    "gamma = np.linspace(0,1,100).reshape(100,1)\n",
    "\n",
    "res = gamma@payment_matrix.min(axis=1).reshape(1,4) + (1-gamma)@payment_matrix.max(axis=1).reshape(1,4)\n",
    "a = np.array(a)\n",
    "plt.plot(gamma, a[np.argmax(res, axis=1)])\n",
    "plt.grid()"
   ]
  },
  {
   "cell_type": "markdown",
   "metadata": {},
   "source": [
    "## Задание №4\n",
    "\n",
    "Обыватель имеет возможность выделить 10 у.е. на формирование портфеля акций. Ценные бумаги можно приобрести у компаний А, В и С. Номинальная стоимость акции первой компании составляет 3 у.е., второй — 2 у.е., третьей — 5 у.е. На конец финансового года рынок ценных бумаг может оказаться в одном из двух состояний Z и W. Эксперты установили, что дивиденды компании А для состояния Z на конец года составят 10% от номинальной стоимости акции, а для состояния W — 15%; для компании В соответственно 8 и 12 %; для компании С — 14 и 8%.\n",
    "\n",
    "Сформировать портфель акций обывателю, обеспечив ему возможно большую прибыль. Оптимум выбирать по критериям Байеса, Вальда, Сэвиджа и Гурвица."
   ]
  },
  {
   "cell_type": "code",
   "execution_count": 279,
   "metadata": {
    "ExecuteTime": {
     "end_time": "2019-03-24T13:07:45.132617Z",
     "start_time": "2019-03-24T13:07:45.130627Z"
    }
   },
   "outputs": [],
   "source": [
    "import itertools"
   ]
  },
  {
   "cell_type": "code",
   "execution_count": 286,
   "metadata": {
    "ExecuteTime": {
     "end_time": "2019-03-24T13:09:27.513765Z",
     "start_time": "2019-03-24T13:09:27.506763Z"
    }
   },
   "outputs": [],
   "source": [
    "combinations = np.array([s for s in itertools.product(np.linspace(0, 1, 11), repeat=3)\n",
    "                         if sum(s) == 1])"
   ]
  },
  {
   "cell_type": "code",
   "execution_count": 292,
   "metadata": {
    "ExecuteTime": {
     "end_time": "2019-03-24T13:12:54.924351Z",
     "start_time": "2019-03-24T13:12:54.914358Z"
    }
   },
   "outputs": [
    {
     "data": {
      "text/plain": [
       "array([[1.14 , 1.134, 1.128, 1.122, 1.116, 1.11 , 1.104, 1.098, 1.092,\n",
       "        1.086, 1.08 , 1.136, 1.13 , 1.124, 1.118, 1.112, 1.106, 1.1  ,\n",
       "        1.094, 1.088, 1.082, 1.132, 1.126, 1.12 , 1.114, 1.108, 1.102,\n",
       "        1.096, 1.084, 1.128, 1.122, 1.116, 1.11 , 1.104, 1.098, 1.086,\n",
       "        1.124, 1.118, 1.112, 1.106, 1.1  , 1.094, 1.088, 1.12 , 1.114,\n",
       "        1.108, 1.102, 1.096, 1.09 , 1.116, 1.11 , 1.104, 1.092, 1.112,\n",
       "        1.106, 1.094, 1.108, 1.102, 1.096, 1.104, 1.098, 1.1  ],\n",
       "       [1.08 , 1.084, 1.088, 1.092, 1.096, 1.1  , 1.104, 1.108, 1.112,\n",
       "        1.116, 1.12 , 1.087, 1.091, 1.095, 1.099, 1.103, 1.107, 1.111,\n",
       "        1.115, 1.119, 1.123, 1.094, 1.098, 1.102, 1.106, 1.11 , 1.114,\n",
       "        1.118, 1.126, 1.101, 1.105, 1.109, 1.113, 1.117, 1.121, 1.129,\n",
       "        1.108, 1.112, 1.116, 1.12 , 1.124, 1.128, 1.132, 1.115, 1.119,\n",
       "        1.123, 1.127, 1.131, 1.135, 1.122, 1.126, 1.13 , 1.138, 1.129,\n",
       "        1.133, 1.141, 1.136, 1.14 , 1.144, 1.143, 1.147, 1.15 ]])"
      ]
     },
     "execution_count": 292,
     "metadata": {},
     "output_type": "execute_result"
    }
   ],
   "source": [
    "payment_matrix = np.zeros((2,len(combinations)))\n",
    "for i, c in enumerate(combinations):\n",
    "    payment_matrix[0][i] = np.dot(c, [1.10, 1.08, 1.14])\n",
    "    payment_matrix[1][i] = np.dot(c, [1.15, 1.12, 1.08])\n",
    "payment_matrix"
   ]
  },
  {
   "cell_type": "markdown",
   "metadata": {},
   "source": [
    "### Критерий Байеса"
   ]
  },
  {
   "cell_type": "code",
   "execution_count": 298,
   "metadata": {
    "ExecuteTime": {
     "end_time": "2019-03-24T13:14:14.360989Z",
     "start_time": "2019-03-24T13:14:14.354987Z"
    }
   },
   "outputs": [
    {
     "data": {
      "text/plain": [
       "array([1., 0., 0.])"
      ]
     },
     "execution_count": 298,
     "metadata": {},
     "output_type": "execute_result"
    }
   ],
   "source": [
    "combinations[np.argmax(payment_matrix.mean(axis=0))]"
   ]
  },
  {
   "cell_type": "markdown",
   "metadata": {},
   "source": [
    "### Критерий Вальда"
   ]
  },
  {
   "cell_type": "code",
   "execution_count": 300,
   "metadata": {
    "ExecuteTime": {
     "end_time": "2019-03-24T13:14:35.751090Z",
     "start_time": "2019-03-24T13:14:35.747087Z"
    }
   },
   "outputs": [
    {
     "data": {
      "text/plain": [
       "array([0.6, 0. , 0.4])"
      ]
     },
     "execution_count": 300,
     "metadata": {},
     "output_type": "execute_result"
    }
   ],
   "source": [
    "combinations[np.argmax(payment_matrix.min(axis=0))]"
   ]
  },
  {
   "cell_type": "markdown",
   "metadata": {},
   "source": [
    "### Критерий Сэвиджа"
   ]
  },
  {
   "cell_type": "code",
   "execution_count": 322,
   "metadata": {
    "ExecuteTime": {
     "end_time": "2019-03-24T13:18:35.471193Z",
     "start_time": "2019-03-24T13:18:35.465186Z"
    }
   },
   "outputs": [
    {
     "data": {
      "text/plain": [
       "array([0.6, 0. , 0.4])"
      ]
     },
     "execution_count": 322,
     "metadata": {},
     "output_type": "execute_result"
    }
   ],
   "source": [
    "R = payment_matrix.max(axis=1).reshape(2,1) - payment_matrix\n",
    "combinations[np.argmin(R.max(axis=0))]"
   ]
  },
  {
   "cell_type": "markdown",
   "metadata": {},
   "source": [
    "### Критерий Гурвица"
   ]
  },
  {
   "cell_type": "code",
   "execution_count": 323,
   "metadata": {
    "ExecuteTime": {
     "end_time": "2019-03-24T13:19:09.764140Z",
     "start_time": "2019-03-24T13:19:09.761137Z"
    }
   },
   "outputs": [],
   "source": [
    "gamma = np.linspace(0,1,100)"
   ]
  },
  {
   "cell_type": "code",
   "execution_count": 527,
   "metadata": {},
   "outputs": [
    {
     "data": {
      "text/plain": [
       "(1.0, 0.0, 0.0)"
      ]
     },
     "execution_count": 527,
     "metadata": {},
     "output_type": "execute_result"
    }
   ],
   "source": [
    "np.argmax((matrix.min(axis=1) + matrix.max(axis=1)))"
   ]
  },
  {
   "cell_type": "code",
   "execution_count": 329,
   "metadata": {
    "ExecuteTime": {
     "end_time": "2019-03-24T13:20:24.284843Z",
     "start_time": "2019-03-24T13:20:24.281842Z"
    }
   },
   "outputs": [],
   "source": [
    "gamma = gamma.reshape(100,1)"
   ]
  },
  {
   "cell_type": "code",
   "execution_count": 335,
   "metadata": {
    "ExecuteTime": {
     "end_time": "2019-03-24T13:22:42.943215Z",
     "start_time": "2019-03-24T13:22:42.906208Z"
    }
   },
   "outputs": [
    {
     "data": {
      "text/plain": [
       "[(array([0.]), array([1., 0., 0.])),\n",
       " (array([0.01010101]), array([1., 0., 0.])),\n",
       " (array([0.02020202]), array([1., 0., 0.])),\n",
       " (array([0.03030303]), array([1., 0., 0.])),\n",
       " (array([0.04040404]), array([1., 0., 0.])),\n",
       " (array([0.05050505]), array([1., 0., 0.])),\n",
       " (array([0.06060606]), array([1., 0., 0.])),\n",
       " (array([0.07070707]), array([1., 0., 0.])),\n",
       " (array([0.08080808]), array([1., 0., 0.])),\n",
       " (array([0.09090909]), array([1., 0., 0.])),\n",
       " (array([0.1010101]), array([1., 0., 0.])),\n",
       " (array([0.11111111]), array([1., 0., 0.])),\n",
       " (array([0.12121212]), array([1., 0., 0.])),\n",
       " (array([0.13131313]), array([1., 0., 0.])),\n",
       " (array([0.14141414]), array([1., 0., 0.])),\n",
       " (array([0.15151515]), array([1., 0., 0.])),\n",
       " (array([0.16161616]), array([1., 0., 0.])),\n",
       " (array([0.17171717]), array([1., 0., 0.])),\n",
       " (array([0.18181818]), array([1., 0., 0.])),\n",
       " (array([0.19191919]), array([1., 0., 0.])),\n",
       " (array([0.2020202]), array([1., 0., 0.])),\n",
       " (array([0.21212121]), array([1., 0., 0.])),\n",
       " (array([0.22222222]), array([1., 0., 0.])),\n",
       " (array([0.23232323]), array([1., 0., 0.])),\n",
       " (array([0.24242424]), array([1., 0., 0.])),\n",
       " (array([0.25252525]), array([1., 0., 0.])),\n",
       " (array([0.26262626]), array([1., 0., 0.])),\n",
       " (array([0.27272727]), array([1., 0., 0.])),\n",
       " (array([0.28282828]), array([1., 0., 0.])),\n",
       " (array([0.29292929]), array([1., 0., 0.])),\n",
       " (array([0.3030303]), array([1., 0., 0.])),\n",
       " (array([0.31313131]), array([1., 0., 0.])),\n",
       " (array([0.32323232]), array([1., 0., 0.])),\n",
       " (array([0.33333333]), array([1., 0., 0.])),\n",
       " (array([0.34343434]), array([1., 0., 0.])),\n",
       " (array([0.35353535]), array([1., 0., 0.])),\n",
       " (array([0.36363636]), array([1., 0., 0.])),\n",
       " (array([0.37373737]), array([1., 0., 0.])),\n",
       " (array([0.38383838]), array([1., 0., 0.])),\n",
       " (array([0.39393939]), array([1., 0., 0.])),\n",
       " (array([0.4040404]), array([1., 0., 0.])),\n",
       " (array([0.41414141]), array([1., 0., 0.])),\n",
       " (array([0.42424242]), array([1., 0., 0.])),\n",
       " (array([0.43434343]), array([1., 0., 0.])),\n",
       " (array([0.44444444]), array([1., 0., 0.])),\n",
       " (array([0.45454545]), array([1., 0., 0.])),\n",
       " (array([0.46464646]), array([1., 0., 0.])),\n",
       " (array([0.47474747]), array([1., 0., 0.])),\n",
       " (array([0.48484848]), array([1., 0., 0.])),\n",
       " (array([0.49494949]), array([1., 0., 0.])),\n",
       " (array([0.50505051]), array([1., 0., 0.])),\n",
       " (array([0.51515152]), array([1., 0., 0.])),\n",
       " (array([0.52525253]), array([1., 0., 0.])),\n",
       " (array([0.53535354]), array([1., 0., 0.])),\n",
       " (array([0.54545455]), array([1., 0., 0.])),\n",
       " (array([0.55555556]), array([1., 0., 0.])),\n",
       " (array([0.56565657]), array([1., 0., 0.])),\n",
       " (array([0.57575758]), array([1., 0., 0.])),\n",
       " (array([0.58585859]), array([1., 0., 0.])),\n",
       " (array([0.5959596]), array([1., 0., 0.])),\n",
       " (array([0.60606061]), array([1., 0., 0.])),\n",
       " (array([0.61616162]), array([1., 0., 0.])),\n",
       " (array([0.62626263]), array([1., 0., 0.])),\n",
       " (array([0.63636364]), array([0.6, 0. , 0.4])),\n",
       " (array([0.64646465]), array([0.6, 0. , 0.4])),\n",
       " (array([0.65656566]), array([0.6, 0. , 0.4])),\n",
       " (array([0.66666667]), array([0.6, 0. , 0.4])),\n",
       " (array([0.67676768]), array([0.6, 0. , 0.4])),\n",
       " (array([0.68686869]), array([0.6, 0. , 0.4])),\n",
       " (array([0.6969697]), array([0.6, 0. , 0.4])),\n",
       " (array([0.70707071]), array([0.6, 0. , 0.4])),\n",
       " (array([0.71717172]), array([0.6, 0. , 0.4])),\n",
       " (array([0.72727273]), array([0.6, 0. , 0.4])),\n",
       " (array([0.73737374]), array([0.6, 0. , 0.4])),\n",
       " (array([0.74747475]), array([0.6, 0. , 0.4])),\n",
       " (array([0.75757576]), array([0.6, 0. , 0.4])),\n",
       " (array([0.76767677]), array([0.6, 0. , 0.4])),\n",
       " (array([0.77777778]), array([0.6, 0. , 0.4])),\n",
       " (array([0.78787879]), array([0.6, 0. , 0.4])),\n",
       " (array([0.7979798]), array([0.6, 0. , 0.4])),\n",
       " (array([0.80808081]), array([0.6, 0. , 0.4])),\n",
       " (array([0.81818182]), array([0.6, 0. , 0.4])),\n",
       " (array([0.82828283]), array([0.6, 0. , 0.4])),\n",
       " (array([0.83838384]), array([0.6, 0. , 0.4])),\n",
       " (array([0.84848485]), array([0.6, 0. , 0.4])),\n",
       " (array([0.85858586]), array([0.6, 0. , 0.4])),\n",
       " (array([0.86868687]), array([0.6, 0. , 0.4])),\n",
       " (array([0.87878788]), array([0.6, 0. , 0.4])),\n",
       " (array([0.88888889]), array([0.6, 0. , 0.4])),\n",
       " (array([0.8989899]), array([0.6, 0. , 0.4])),\n",
       " (array([0.90909091]), array([0.6, 0. , 0.4])),\n",
       " (array([0.91919192]), array([0.6, 0. , 0.4])),\n",
       " (array([0.92929293]), array([0.6, 0. , 0.4])),\n",
       " (array([0.93939394]), array([0.6, 0. , 0.4])),\n",
       " (array([0.94949495]), array([0.6, 0. , 0.4])),\n",
       " (array([0.95959596]), array([0.6, 0. , 0.4])),\n",
       " (array([0.96969697]), array([0.6, 0. , 0.4])),\n",
       " (array([0.97979798]), array([0.6, 0. , 0.4])),\n",
       " (array([0.98989899]), array([0.6, 0. , 0.4])),\n",
       " (array([1.]), array([0.6, 0. , 0.4]))]"
      ]
     },
     "execution_count": 335,
     "metadata": {},
     "output_type": "execute_result"
    }
   ],
   "source": [
    "list(zip(gamma, combinations[np.argmax(gamma@payment_matrix.min(axis=0).reshape(1,-1) + (1-gamma)@payment_matrix.max(axis=0).reshape(1,-1), axis = 1)]))"
   ]
  }
 ],
 "metadata": {
  "kernelspec": {
   "display_name": "Python 3",
   "language": "python",
   "name": "python3"
  },
  "language_info": {
   "codemirror_mode": {
    "name": "ipython",
    "version": 3
   },
   "file_extension": ".py",
   "mimetype": "text/x-python",
   "name": "python",
   "nbconvert_exporter": "python",
   "pygments_lexer": "ipython3",
   "version": "3.7.1"
  },
  "latex_envs": {
   "LaTeX_envs_menu_present": true,
   "autoclose": false,
   "autocomplete": true,
   "bibliofile": "biblio.bib",
   "cite_by": "apalike",
   "current_citInitial": 1,
   "eqLabelWithNumbers": true,
   "eqNumInitial": 1,
   "hotkeys": {
    "equation": "Ctrl-E",
    "itemize": "Ctrl-I"
   },
   "labels_anchors": false,
   "latex_user_defs": false,
   "report_style_numbering": false,
   "user_envs_cfg": false
  }
 },
 "nbformat": 4,
 "nbformat_minor": 2
}
