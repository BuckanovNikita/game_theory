{
 "cells": [
  {
   "cell_type": "markdown",
   "metadata": {},
   "source": [
    "# Буканов Никита, Лабораторная работа №4"
   ]
  },
  {
   "cell_type": "code",
   "execution_count": 327,
   "metadata": {
    "ExecuteTime": {
     "end_time": "2019-04-01T18:50:01.129897Z",
     "start_time": "2019-04-01T18:50:01.124894Z"
    }
   },
   "outputs": [],
   "source": [
    "%matplotlib notebook\n",
    "\n",
    "from scipy.optimize import linprog\n",
    "\n",
    "import numpy as np\n",
    "import pandas as pd\n",
    "import matplotlib.pyplot as plt"
   ]
  },
  {
   "cell_type": "markdown",
   "metadata": {},
   "source": [
    "## Задание №1\n",
    "\n",
    "Предприятие выпускает скоропортящуюся продукцию двух видов. Данные о ее себестоимости, отпускных ценах и объемах реализации приведены в таблице:\n",
    "\n",
    "|Вид продукции|Себестоимость ед. продукции|Отпускная цена в день изготовления|Отпускная цена позже|Объем реализации в теплую погоду|Объем реализации в холодную погоду|\n",
    "|---|---|---|---|---|---|\n",
    "|1| 0.8| 1.2| 0.3| 1000| 4000|\n",
    "|2 |0.5 |0.8 |0.2 |6000 |1200|\n",
    "\n",
    "На реализацию всей произведенной продукции расходуется 200 у.е. Определить ежедневный объем производства продукции по видам, обеспечивающий предприятию наибольший доход.\n"
   ]
  },
  {
   "cell_type": "code",
   "execution_count": 328,
   "metadata": {
    "ExecuteTime": {
     "end_time": "2019-04-01T18:50:01.478498Z",
     "start_time": "2019-04-01T18:50:01.459494Z"
    },
    "code_folding": []
   },
   "outputs": [
    {
     "data": {
      "text/html": [
       "<div>\n",
       "<style scoped>\n",
       "    .dataframe tbody tr th:only-of-type {\n",
       "        vertical-align: middle;\n",
       "    }\n",
       "\n",
       "    .dataframe tbody tr th {\n",
       "        vertical-align: top;\n",
       "    }\n",
       "\n",
       "    .dataframe thead th {\n",
       "        text-align: right;\n",
       "    }\n",
       "</style>\n",
       "<table border=\"1\" class=\"dataframe\">\n",
       "  <thead>\n",
       "    <tr style=\"text-align: right;\">\n",
       "      <th></th>\n",
       "      <th>0</th>\n",
       "      <th>1</th>\n",
       "    </tr>\n",
       "  </thead>\n",
       "  <tbody>\n",
       "    <tr>\n",
       "      <th>0</th>\n",
       "      <td>2200.0</td>\n",
       "      <td>-740.0</td>\n",
       "    </tr>\n",
       "    <tr>\n",
       "      <th>1</th>\n",
       "      <td>-680.0</td>\n",
       "      <td>1960.0</td>\n",
       "    </tr>\n",
       "  </tbody>\n",
       "</table>\n",
       "</div>"
      ],
      "text/plain": [
       "        0       1\n",
       "0  2200.0  -740.0\n",
       "1  -680.0  1960.0"
      ]
     },
     "execution_count": 328,
     "metadata": {},
     "output_type": "execute_result"
    }
   ],
   "source": [
    "class product():\n",
    "    def __init__(self, s1, s2, s3, s4, s5):\n",
    "        self.s_price = s1\n",
    "        self.price_1 = s2\n",
    "        self.price_2 = s3\n",
    "        self.sell_1 = s4\n",
    "        self.sell_2 = s5\n",
    "        \n",
    "product_1 = product(0.8, 1.2, 0.3, 1000, 4000)\n",
    "product_2 = product(0.5, 0.8, 0.2, 6000, 1200)\n",
    "payment_matrix = np.zeros((2,2))\n",
    "\n",
    "def profit(p, S, V):\n",
    "    if V <= S:\n",
    "        return V*(p.price_1 - p.s_price)\n",
    "    else:\n",
    "        return S*(p.price_1 - p.s_price)-(V-S)*(p.s_price - p.price_2)\n",
    "\n",
    "for i, s in enumerate([product_1.sell_1, product_1.sell_2]):\n",
    "    for j, t in enumerate([product_1.sell_1, product_1.sell_2]):\n",
    "        payment_matrix[i][j] += profit(product_1, s, t)\n",
    "for i, s in enumerate([product_2.sell_1, product_2.sell_2]):\n",
    "    for j, t in enumerate([product_2.sell_1, product_2.sell_2]):\n",
    "        payment_matrix[i][j] += profit(product_2, s, t)\n",
    "        \n",
    "pd.DataFrame(payment_matrix)"
   ]
  },
  {
   "cell_type": "code",
   "execution_count": 329,
   "metadata": {
    "ExecuteTime": {
     "end_time": "2019-04-01T18:50:01.618544Z",
     "start_time": "2019-04-01T18:50:01.615554Z"
    }
   },
   "outputs": [],
   "source": [
    "c = [-1, -1]"
   ]
  },
  {
   "cell_type": "code",
   "execution_count": 330,
   "metadata": {
    "ExecuteTime": {
     "end_time": "2019-04-01T18:50:01.797122Z",
     "start_time": "2019-04-01T18:50:01.789118Z"
    }
   },
   "outputs": [
    {
     "data": {
      "text/plain": [
       "     fun: -0.0014650283553875238\n",
       " message: 'Optimization terminated successfully.'\n",
       "     nit: 2\n",
       "   slack: array([0., 0.])\n",
       "  status: 0\n",
       " success: True\n",
       "       x: array([0.00070888, 0.00075614])"
      ]
     },
     "execution_count": 330,
     "metadata": {},
     "output_type": "execute_result"
    }
   ],
   "source": [
    "x = linprog([-1, -1], payment_matrix, [1, 1])\n",
    "x"
   ]
  },
  {
   "cell_type": "code",
   "execution_count": 331,
   "metadata": {
    "ExecuteTime": {
     "end_time": "2019-04-01T18:50:01.956797Z",
     "start_time": "2019-04-01T18:50:01.953794Z"
    }
   },
   "outputs": [],
   "source": [
    "X = -x['x']/x['fun']"
   ]
  },
  {
   "cell_type": "code",
   "execution_count": 332,
   "metadata": {
    "ExecuteTime": {
     "end_time": "2019-04-01T18:50:02.124926Z",
     "start_time": "2019-04-01T18:50:02.120935Z"
    }
   },
   "outputs": [
    {
     "data": {
      "text/plain": [
       "array([0.48387097, 0.51612903])"
      ]
     },
     "execution_count": 332,
     "metadata": {},
     "output_type": "execute_result"
    }
   ],
   "source": [
    "X"
   ]
  },
  {
   "cell_type": "code",
   "execution_count": 333,
   "metadata": {
    "ExecuteTime": {
     "end_time": "2019-04-01T18:50:02.304637Z",
     "start_time": "2019-04-01T18:50:02.300635Z"
    }
   },
   "outputs": [
    {
     "data": {
      "text/plain": [
       "2548.3870967741937"
      ]
     },
     "execution_count": 333,
     "metadata": {},
     "output_type": "execute_result"
    }
   ],
   "source": [
    "product_1.sell_1 * X[0] + product_1.sell_2 * X[1]"
   ]
  },
  {
   "cell_type": "code",
   "execution_count": 334,
   "metadata": {
    "ExecuteTime": {
     "end_time": "2019-04-01T18:50:02.461125Z",
     "start_time": "2019-04-01T18:50:02.456124Z"
    }
   },
   "outputs": [
    {
     "data": {
      "text/plain": [
       "3522.5806451612902"
      ]
     },
     "execution_count": 334,
     "metadata": {},
     "output_type": "execute_result"
    }
   ],
   "source": [
    "product_2.sell_1 * X[0] + product_2.sell_2 * X[1]"
   ]
  },
  {
   "cell_type": "markdown",
   "metadata": {},
   "source": [
    "## Задание №2\n",
    "На технологическую линию поступает сырье с малым или большим количеством примесей. Линия может работать в трех режимах. Доход предприятия от реализации единицы продукции, изготовленной из сырья первого вида при различных режимах работы технологической линии, составляет соответственно 2, 5 и 6 у.е., а из сырья второго вида — 5, 3 и 1 у.е. Сколько времени в каждом режиме должна работать технологическая линия, чтобы доход от реализации продукции был максимальным?"
   ]
  },
  {
   "cell_type": "code",
   "execution_count": 335,
   "metadata": {
    "ExecuteTime": {
     "end_time": "2019-04-01T18:50:02.805677Z",
     "start_time": "2019-04-01T18:50:02.801676Z"
    }
   },
   "outputs": [],
   "source": [
    "payment_matrix = np.array([[-2, -5, -6],\n",
    "                           [-5, -3, -1]])"
   ]
  },
  {
   "cell_type": "code",
   "execution_count": 336,
   "metadata": {
    "ExecuteTime": {
     "end_time": "2019-04-01T18:50:02.989505Z",
     "start_time": "2019-04-01T18:50:02.982503Z"
    }
   },
   "outputs": [
    {
     "data": {
      "text/plain": [
       "     fun: 0.2631578947368421\n",
       " message: 'Optimization terminated successfully.'\n",
       "     nit: 2\n",
       "   slack: array([0., 0.])\n",
       "  status: 0\n",
       " success: True\n",
       "       x: array([0.10526316, 0.15789474, 0.        ])"
      ]
     },
     "execution_count": 336,
     "metadata": {},
     "output_type": "execute_result"
    }
   ],
   "source": [
    "c = [1, 1, 1]\n",
    "A = payment_matrix\n",
    "b = [-1, -1]\n",
    "\n",
    "x1_bounds = (0, None)\n",
    "x2_bounds = (0, None)\n",
    "x3_bounds = (0, None)\n",
    "\n",
    "x = linprog(c, A_ub=A, b_ub=b)\n",
    "x"
   ]
  },
  {
   "cell_type": "code",
   "execution_count": 337,
   "metadata": {
    "ExecuteTime": {
     "end_time": "2019-04-01T18:50:03.159734Z",
     "start_time": "2019-04-01T18:50:03.155731Z"
    }
   },
   "outputs": [],
   "source": [
    "X = x['x']/x['fun']"
   ]
  },
  {
   "cell_type": "code",
   "execution_count": 338,
   "metadata": {
    "ExecuteTime": {
     "end_time": "2019-04-01T18:50:03.335280Z",
     "start_time": "2019-04-01T18:50:03.331279Z"
    }
   },
   "outputs": [
    {
     "data": {
      "text/plain": [
       "array([0.4, 0.6, 0. ])"
      ]
     },
     "execution_count": 338,
     "metadata": {},
     "output_type": "execute_result"
    }
   ],
   "source": [
    "X"
   ]
  },
  {
   "cell_type": "markdown",
   "metadata": {},
   "source": [
    "## Задание №3\n",
    "В новом жилом районе создается СТОА (автосервис) для ремонта в стационарных условиях не более 8 тыс. автомобилей в год. Для упрощения модели примем, что в подобных районах поток заявок на ремонт выражается числами 2, 4, 6 и 8 тыс. заявок в год. Прибыль от одного акта ремонта составляет 90 у.е., потери, вызванные отказом в ремонте из-за недостатка мощностей — 50 у.е.; а убытки от простоя специалистов и оборудования при отсутствии заявок — 60 у.е. Дать обоснованные рекомендации о мощности станции. Оптимум выбирать по критериям Байеса, Вальда, Сэвиджа и Гурвица."
   ]
  },
  {
   "cell_type": "code",
   "execution_count": 339,
   "metadata": {
    "ExecuteTime": {
     "end_time": "2019-04-01T18:50:03.697801Z",
     "start_time": "2019-04-01T18:50:03.687807Z"
    }
   },
   "outputs": [
    {
     "data": {
      "text/plain": [
       "array([[ 180.,   80.,  -20., -120.],\n",
       "       [  60.,  360.,  260.,  160.],\n",
       "       [ -60.,  240.,  540.,  440.],\n",
       "       [-180.,  120.,  420.,  720.]])"
      ]
     },
     "execution_count": 339,
     "metadata": {},
     "output_type": "execute_result"
    }
   ],
   "source": [
    "a = [2, 4, 6, 8]\n",
    "payment_matrix = np.zeros((4,4))\n",
    "for i, p_1 in enumerate(a):\n",
    "    for j, p_2 in enumerate(a):\n",
    "        payment_matrix[i][j] = np.minimum(p_1, p_2)*90\n",
    "        payment_matrix[i][j] -= np.maximum(0, 60*(p_2 - p_1))\n",
    "        payment_matrix[i][j] -= np.maximum(0, 50*(p_1 - p_2))\n",
    "payment_matrix = payment_matrix.T\n",
    "payment_matrix"
   ]
  },
  {
   "cell_type": "markdown",
   "metadata": {},
   "source": [
    "### Критерий Байеса\n",
    "минимизируем средний риск"
   ]
  },
  {
   "cell_type": "code",
   "execution_count": 340,
   "metadata": {
    "ExecuteTime": {
     "end_time": "2019-04-01T18:50:04.068953Z",
     "start_time": "2019-04-01T18:50:04.064949Z"
    }
   },
   "outputs": [
    {
     "data": {
      "text/plain": [
       "array([ 30., 210., 290., 270.])"
      ]
     },
     "execution_count": 340,
     "metadata": {},
     "output_type": "execute_result"
    }
   ],
   "source": [
    "res = payment_matrix.mean(axis=1)\n",
    "res"
   ]
  },
  {
   "cell_type": "markdown",
   "metadata": {
    "variables": {
     "a[np.argmax (res)]": "6",
     "a[np.argmax-(res)]": "<p><strong>TypeError</strong>: unsupported operand type(s) for -: &#39;function&#39; and &#39;float&#39;</p>\n"
    }
   },
   "source": [
    "#### Рекомендуемая мощность:  {{a[np.argmax (res)]}}"
   ]
  },
  {
   "cell_type": "markdown",
   "metadata": {},
   "source": [
    "### Критерий Вальда\n",
    "выйгрыш минимален"
   ]
  },
  {
   "cell_type": "code",
   "execution_count": 341,
   "metadata": {
    "ExecuteTime": {
     "end_time": "2019-04-01T18:50:04.605792Z",
     "start_time": "2019-04-01T18:50:04.599790Z"
    }
   },
   "outputs": [
    {
     "data": {
      "text/plain": [
       "array([-120.,   60.,  -60., -180.])"
      ]
     },
     "execution_count": 341,
     "metadata": {},
     "output_type": "execute_result"
    }
   ],
   "source": [
    "res = payment_matrix.min(axis=1)\n",
    "res "
   ]
  },
  {
   "cell_type": "markdown",
   "metadata": {
    "variables": {
     "a[np.argmax (res)]": "4",
     "a[np.argmax-(res)]": "<p><strong>TypeError</strong>: unsupported operand type(s) for -: &#39;function&#39; and &#39;float&#39;</p>\n"
    }
   },
   "source": [
    "#### Рекомендуемая мощность:  {{a[np.argmax (res)]}}"
   ]
  },
  {
   "cell_type": "markdown",
   "metadata": {},
   "source": [
    "### Критерий Сэвиджа\n",
    "минимизируем максимальный риск"
   ]
  },
  {
   "cell_type": "code",
   "execution_count": 342,
   "metadata": {
    "ExecuteTime": {
     "end_time": "2019-04-01T18:50:05.136774Z",
     "start_time": "2019-04-01T18:50:05.132782Z"
    }
   },
   "outputs": [
    {
     "data": {
      "text/plain": [
       "array([[  0., 280., 560., 840.],\n",
       "       [120.,   0., 280., 560.],\n",
       "       [240., 120.,   0., 280.],\n",
       "       [360., 240., 120.,   0.]])"
      ]
     },
     "execution_count": 342,
     "metadata": {},
     "output_type": "execute_result"
    }
   ],
   "source": [
    "R = payment_matrix.max(axis=0) - payment_matrix\n",
    "R"
   ]
  },
  {
   "cell_type": "code",
   "execution_count": 343,
   "metadata": {
    "ExecuteTime": {
     "end_time": "2019-04-01T18:50:05.320191Z",
     "start_time": "2019-04-01T18:50:05.315189Z"
    }
   },
   "outputs": [
    {
     "data": {
      "text/plain": [
       "array([840., 560., 280., 360.])"
      ]
     },
     "execution_count": 343,
     "metadata": {},
     "output_type": "execute_result"
    }
   ],
   "source": [
    "R.max(axis=1)"
   ]
  },
  {
   "cell_type": "markdown",
   "metadata": {
    "variables": {
     "a[np.argmin (R)]": "2",
     "a[np.argmin-(R)]": "<p><strong>TypeError</strong>: unsupported operand type(s) for -: &#39;function&#39; and &#39;float&#39;</p>\n"
    }
   },
   "source": [
    "#### Рекомендуемая мощность:  {{a[np.argmin (R)]}}"
   ]
  },
  {
   "cell_type": "markdown",
   "metadata": {},
   "source": [
    "### Критерий Гурвица"
   ]
  },
  {
   "cell_type": "code",
   "execution_count": 344,
   "metadata": {
    "ExecuteTime": {
     "end_time": "2019-04-01T18:50:05.886034Z",
     "start_time": "2019-04-01T18:50:05.861028Z"
    }
   },
   "outputs": [
    {
     "data": {
      "application/javascript": [
       "/* Put everything inside the global mpl namespace */\n",
       "window.mpl = {};\n",
       "\n",
       "\n",
       "mpl.get_websocket_type = function() {\n",
       "    if (typeof(WebSocket) !== 'undefined') {\n",
       "        return WebSocket;\n",
       "    } else if (typeof(MozWebSocket) !== 'undefined') {\n",
       "        return MozWebSocket;\n",
       "    } else {\n",
       "        alert('Your browser does not have WebSocket support.' +\n",
       "              'Please try Chrome, Safari or Firefox ≥ 6. ' +\n",
       "              'Firefox 4 and 5 are also supported but you ' +\n",
       "              'have to enable WebSockets in about:config.');\n",
       "    };\n",
       "}\n",
       "\n",
       "mpl.figure = function(figure_id, websocket, ondownload, parent_element) {\n",
       "    this.id = figure_id;\n",
       "\n",
       "    this.ws = websocket;\n",
       "\n",
       "    this.supports_binary = (this.ws.binaryType != undefined);\n",
       "\n",
       "    if (!this.supports_binary) {\n",
       "        var warnings = document.getElementById(\"mpl-warnings\");\n",
       "        if (warnings) {\n",
       "            warnings.style.display = 'block';\n",
       "            warnings.textContent = (\n",
       "                \"This browser does not support binary websocket messages. \" +\n",
       "                    \"Performance may be slow.\");\n",
       "        }\n",
       "    }\n",
       "\n",
       "    this.imageObj = new Image();\n",
       "\n",
       "    this.context = undefined;\n",
       "    this.message = undefined;\n",
       "    this.canvas = undefined;\n",
       "    this.rubberband_canvas = undefined;\n",
       "    this.rubberband_context = undefined;\n",
       "    this.format_dropdown = undefined;\n",
       "\n",
       "    this.image_mode = 'full';\n",
       "\n",
       "    this.root = $('<div/>');\n",
       "    this._root_extra_style(this.root)\n",
       "    this.root.attr('style', 'display: inline-block');\n",
       "\n",
       "    $(parent_element).append(this.root);\n",
       "\n",
       "    this._init_header(this);\n",
       "    this._init_canvas(this);\n",
       "    this._init_toolbar(this);\n",
       "\n",
       "    var fig = this;\n",
       "\n",
       "    this.waiting = false;\n",
       "\n",
       "    this.ws.onopen =  function () {\n",
       "            fig.send_message(\"supports_binary\", {value: fig.supports_binary});\n",
       "            fig.send_message(\"send_image_mode\", {});\n",
       "            if (mpl.ratio != 1) {\n",
       "                fig.send_message(\"set_dpi_ratio\", {'dpi_ratio': mpl.ratio});\n",
       "            }\n",
       "            fig.send_message(\"refresh\", {});\n",
       "        }\n",
       "\n",
       "    this.imageObj.onload = function() {\n",
       "            if (fig.image_mode == 'full') {\n",
       "                // Full images could contain transparency (where diff images\n",
       "                // almost always do), so we need to clear the canvas so that\n",
       "                // there is no ghosting.\n",
       "                fig.context.clearRect(0, 0, fig.canvas.width, fig.canvas.height);\n",
       "            }\n",
       "            fig.context.drawImage(fig.imageObj, 0, 0);\n",
       "        };\n",
       "\n",
       "    this.imageObj.onunload = function() {\n",
       "        fig.ws.close();\n",
       "    }\n",
       "\n",
       "    this.ws.onmessage = this._make_on_message_function(this);\n",
       "\n",
       "    this.ondownload = ondownload;\n",
       "}\n",
       "\n",
       "mpl.figure.prototype._init_header = function() {\n",
       "    var titlebar = $(\n",
       "        '<div class=\"ui-dialog-titlebar ui-widget-header ui-corner-all ' +\n",
       "        'ui-helper-clearfix\"/>');\n",
       "    var titletext = $(\n",
       "        '<div class=\"ui-dialog-title\" style=\"width: 100%; ' +\n",
       "        'text-align: center; padding: 3px;\"/>');\n",
       "    titlebar.append(titletext)\n",
       "    this.root.append(titlebar);\n",
       "    this.header = titletext[0];\n",
       "}\n",
       "\n",
       "\n",
       "\n",
       "mpl.figure.prototype._canvas_extra_style = function(canvas_div) {\n",
       "\n",
       "}\n",
       "\n",
       "\n",
       "mpl.figure.prototype._root_extra_style = function(canvas_div) {\n",
       "\n",
       "}\n",
       "\n",
       "mpl.figure.prototype._init_canvas = function() {\n",
       "    var fig = this;\n",
       "\n",
       "    var canvas_div = $('<div/>');\n",
       "\n",
       "    canvas_div.attr('style', 'position: relative; clear: both; outline: 0');\n",
       "\n",
       "    function canvas_keyboard_event(event) {\n",
       "        return fig.key_event(event, event['data']);\n",
       "    }\n",
       "\n",
       "    canvas_div.keydown('key_press', canvas_keyboard_event);\n",
       "    canvas_div.keyup('key_release', canvas_keyboard_event);\n",
       "    this.canvas_div = canvas_div\n",
       "    this._canvas_extra_style(canvas_div)\n",
       "    this.root.append(canvas_div);\n",
       "\n",
       "    var canvas = $('<canvas/>');\n",
       "    canvas.addClass('mpl-canvas');\n",
       "    canvas.attr('style', \"left: 0; top: 0; z-index: 0; outline: 0\")\n",
       "\n",
       "    this.canvas = canvas[0];\n",
       "    this.context = canvas[0].getContext(\"2d\");\n",
       "\n",
       "    var backingStore = this.context.backingStorePixelRatio ||\n",
       "\tthis.context.webkitBackingStorePixelRatio ||\n",
       "\tthis.context.mozBackingStorePixelRatio ||\n",
       "\tthis.context.msBackingStorePixelRatio ||\n",
       "\tthis.context.oBackingStorePixelRatio ||\n",
       "\tthis.context.backingStorePixelRatio || 1;\n",
       "\n",
       "    mpl.ratio = (window.devicePixelRatio || 1) / backingStore;\n",
       "\n",
       "    var rubberband = $('<canvas/>');\n",
       "    rubberband.attr('style', \"position: absolute; left: 0; top: 0; z-index: 1;\")\n",
       "\n",
       "    var pass_mouse_events = true;\n",
       "\n",
       "    canvas_div.resizable({\n",
       "        start: function(event, ui) {\n",
       "            pass_mouse_events = false;\n",
       "        },\n",
       "        resize: function(event, ui) {\n",
       "            fig.request_resize(ui.size.width, ui.size.height);\n",
       "        },\n",
       "        stop: function(event, ui) {\n",
       "            pass_mouse_events = true;\n",
       "            fig.request_resize(ui.size.width, ui.size.height);\n",
       "        },\n",
       "    });\n",
       "\n",
       "    function mouse_event_fn(event) {\n",
       "        if (pass_mouse_events)\n",
       "            return fig.mouse_event(event, event['data']);\n",
       "    }\n",
       "\n",
       "    rubberband.mousedown('button_press', mouse_event_fn);\n",
       "    rubberband.mouseup('button_release', mouse_event_fn);\n",
       "    // Throttle sequential mouse events to 1 every 20ms.\n",
       "    rubberband.mousemove('motion_notify', mouse_event_fn);\n",
       "\n",
       "    rubberband.mouseenter('figure_enter', mouse_event_fn);\n",
       "    rubberband.mouseleave('figure_leave', mouse_event_fn);\n",
       "\n",
       "    canvas_div.on(\"wheel\", function (event) {\n",
       "        event = event.originalEvent;\n",
       "        event['data'] = 'scroll'\n",
       "        if (event.deltaY < 0) {\n",
       "            event.step = 1;\n",
       "        } else {\n",
       "            event.step = -1;\n",
       "        }\n",
       "        mouse_event_fn(event);\n",
       "    });\n",
       "\n",
       "    canvas_div.append(canvas);\n",
       "    canvas_div.append(rubberband);\n",
       "\n",
       "    this.rubberband = rubberband;\n",
       "    this.rubberband_canvas = rubberband[0];\n",
       "    this.rubberband_context = rubberband[0].getContext(\"2d\");\n",
       "    this.rubberband_context.strokeStyle = \"#000000\";\n",
       "\n",
       "    this._resize_canvas = function(width, height) {\n",
       "        // Keep the size of the canvas, canvas container, and rubber band\n",
       "        // canvas in synch.\n",
       "        canvas_div.css('width', width)\n",
       "        canvas_div.css('height', height)\n",
       "\n",
       "        canvas.attr('width', width * mpl.ratio);\n",
       "        canvas.attr('height', height * mpl.ratio);\n",
       "        canvas.attr('style', 'width: ' + width + 'px; height: ' + height + 'px;');\n",
       "\n",
       "        rubberband.attr('width', width);\n",
       "        rubberband.attr('height', height);\n",
       "    }\n",
       "\n",
       "    // Set the figure to an initial 600x600px, this will subsequently be updated\n",
       "    // upon first draw.\n",
       "    this._resize_canvas(600, 600);\n",
       "\n",
       "    // Disable right mouse context menu.\n",
       "    $(this.rubberband_canvas).bind(\"contextmenu\",function(e){\n",
       "        return false;\n",
       "    });\n",
       "\n",
       "    function set_focus () {\n",
       "        canvas.focus();\n",
       "        canvas_div.focus();\n",
       "    }\n",
       "\n",
       "    window.setTimeout(set_focus, 100);\n",
       "}\n",
       "\n",
       "mpl.figure.prototype._init_toolbar = function() {\n",
       "    var fig = this;\n",
       "\n",
       "    var nav_element = $('<div/>')\n",
       "    nav_element.attr('style', 'width: 100%');\n",
       "    this.root.append(nav_element);\n",
       "\n",
       "    // Define a callback function for later on.\n",
       "    function toolbar_event(event) {\n",
       "        return fig.toolbar_button_onclick(event['data']);\n",
       "    }\n",
       "    function toolbar_mouse_event(event) {\n",
       "        return fig.toolbar_button_onmouseover(event['data']);\n",
       "    }\n",
       "\n",
       "    for(var toolbar_ind in mpl.toolbar_items) {\n",
       "        var name = mpl.toolbar_items[toolbar_ind][0];\n",
       "        var tooltip = mpl.toolbar_items[toolbar_ind][1];\n",
       "        var image = mpl.toolbar_items[toolbar_ind][2];\n",
       "        var method_name = mpl.toolbar_items[toolbar_ind][3];\n",
       "\n",
       "        if (!name) {\n",
       "            // put a spacer in here.\n",
       "            continue;\n",
       "        }\n",
       "        var button = $('<button/>');\n",
       "        button.addClass('ui-button ui-widget ui-state-default ui-corner-all ' +\n",
       "                        'ui-button-icon-only');\n",
       "        button.attr('role', 'button');\n",
       "        button.attr('aria-disabled', 'false');\n",
       "        button.click(method_name, toolbar_event);\n",
       "        button.mouseover(tooltip, toolbar_mouse_event);\n",
       "\n",
       "        var icon_img = $('<span/>');\n",
       "        icon_img.addClass('ui-button-icon-primary ui-icon');\n",
       "        icon_img.addClass(image);\n",
       "        icon_img.addClass('ui-corner-all');\n",
       "\n",
       "        var tooltip_span = $('<span/>');\n",
       "        tooltip_span.addClass('ui-button-text');\n",
       "        tooltip_span.html(tooltip);\n",
       "\n",
       "        button.append(icon_img);\n",
       "        button.append(tooltip_span);\n",
       "\n",
       "        nav_element.append(button);\n",
       "    }\n",
       "\n",
       "    var fmt_picker_span = $('<span/>');\n",
       "\n",
       "    var fmt_picker = $('<select/>');\n",
       "    fmt_picker.addClass('mpl-toolbar-option ui-widget ui-widget-content');\n",
       "    fmt_picker_span.append(fmt_picker);\n",
       "    nav_element.append(fmt_picker_span);\n",
       "    this.format_dropdown = fmt_picker[0];\n",
       "\n",
       "    for (var ind in mpl.extensions) {\n",
       "        var fmt = mpl.extensions[ind];\n",
       "        var option = $(\n",
       "            '<option/>', {selected: fmt === mpl.default_extension}).html(fmt);\n",
       "        fmt_picker.append(option)\n",
       "    }\n",
       "\n",
       "    // Add hover states to the ui-buttons\n",
       "    $( \".ui-button\" ).hover(\n",
       "        function() { $(this).addClass(\"ui-state-hover\");},\n",
       "        function() { $(this).removeClass(\"ui-state-hover\");}\n",
       "    );\n",
       "\n",
       "    var status_bar = $('<span class=\"mpl-message\"/>');\n",
       "    nav_element.append(status_bar);\n",
       "    this.message = status_bar[0];\n",
       "}\n",
       "\n",
       "mpl.figure.prototype.request_resize = function(x_pixels, y_pixels) {\n",
       "    // Request matplotlib to resize the figure. Matplotlib will then trigger a resize in the client,\n",
       "    // which will in turn request a refresh of the image.\n",
       "    this.send_message('resize', {'width': x_pixels, 'height': y_pixels});\n",
       "}\n",
       "\n",
       "mpl.figure.prototype.send_message = function(type, properties) {\n",
       "    properties['type'] = type;\n",
       "    properties['figure_id'] = this.id;\n",
       "    this.ws.send(JSON.stringify(properties));\n",
       "}\n",
       "\n",
       "mpl.figure.prototype.send_draw_message = function() {\n",
       "    if (!this.waiting) {\n",
       "        this.waiting = true;\n",
       "        this.ws.send(JSON.stringify({type: \"draw\", figure_id: this.id}));\n",
       "    }\n",
       "}\n",
       "\n",
       "\n",
       "mpl.figure.prototype.handle_save = function(fig, msg) {\n",
       "    var format_dropdown = fig.format_dropdown;\n",
       "    var format = format_dropdown.options[format_dropdown.selectedIndex].value;\n",
       "    fig.ondownload(fig, format);\n",
       "}\n",
       "\n",
       "\n",
       "mpl.figure.prototype.handle_resize = function(fig, msg) {\n",
       "    var size = msg['size'];\n",
       "    if (size[0] != fig.canvas.width || size[1] != fig.canvas.height) {\n",
       "        fig._resize_canvas(size[0], size[1]);\n",
       "        fig.send_message(\"refresh\", {});\n",
       "    };\n",
       "}\n",
       "\n",
       "mpl.figure.prototype.handle_rubberband = function(fig, msg) {\n",
       "    var x0 = msg['x0'] / mpl.ratio;\n",
       "    var y0 = (fig.canvas.height - msg['y0']) / mpl.ratio;\n",
       "    var x1 = msg['x1'] / mpl.ratio;\n",
       "    var y1 = (fig.canvas.height - msg['y1']) / mpl.ratio;\n",
       "    x0 = Math.floor(x0) + 0.5;\n",
       "    y0 = Math.floor(y0) + 0.5;\n",
       "    x1 = Math.floor(x1) + 0.5;\n",
       "    y1 = Math.floor(y1) + 0.5;\n",
       "    var min_x = Math.min(x0, x1);\n",
       "    var min_y = Math.min(y0, y1);\n",
       "    var width = Math.abs(x1 - x0);\n",
       "    var height = Math.abs(y1 - y0);\n",
       "\n",
       "    fig.rubberband_context.clearRect(\n",
       "        0, 0, fig.canvas.width, fig.canvas.height);\n",
       "\n",
       "    fig.rubberband_context.strokeRect(min_x, min_y, width, height);\n",
       "}\n",
       "\n",
       "mpl.figure.prototype.handle_figure_label = function(fig, msg) {\n",
       "    // Updates the figure title.\n",
       "    fig.header.textContent = msg['label'];\n",
       "}\n",
       "\n",
       "mpl.figure.prototype.handle_cursor = function(fig, msg) {\n",
       "    var cursor = msg['cursor'];\n",
       "    switch(cursor)\n",
       "    {\n",
       "    case 0:\n",
       "        cursor = 'pointer';\n",
       "        break;\n",
       "    case 1:\n",
       "        cursor = 'default';\n",
       "        break;\n",
       "    case 2:\n",
       "        cursor = 'crosshair';\n",
       "        break;\n",
       "    case 3:\n",
       "        cursor = 'move';\n",
       "        break;\n",
       "    }\n",
       "    fig.rubberband_canvas.style.cursor = cursor;\n",
       "}\n",
       "\n",
       "mpl.figure.prototype.handle_message = function(fig, msg) {\n",
       "    fig.message.textContent = msg['message'];\n",
       "}\n",
       "\n",
       "mpl.figure.prototype.handle_draw = function(fig, msg) {\n",
       "    // Request the server to send over a new figure.\n",
       "    fig.send_draw_message();\n",
       "}\n",
       "\n",
       "mpl.figure.prototype.handle_image_mode = function(fig, msg) {\n",
       "    fig.image_mode = msg['mode'];\n",
       "}\n",
       "\n",
       "mpl.figure.prototype.updated_canvas_event = function() {\n",
       "    // Called whenever the canvas gets updated.\n",
       "    this.send_message(\"ack\", {});\n",
       "}\n",
       "\n",
       "// A function to construct a web socket function for onmessage handling.\n",
       "// Called in the figure constructor.\n",
       "mpl.figure.prototype._make_on_message_function = function(fig) {\n",
       "    return function socket_on_message(evt) {\n",
       "        if (evt.data instanceof Blob) {\n",
       "            /* FIXME: We get \"Resource interpreted as Image but\n",
       "             * transferred with MIME type text/plain:\" errors on\n",
       "             * Chrome.  But how to set the MIME type?  It doesn't seem\n",
       "             * to be part of the websocket stream */\n",
       "            evt.data.type = \"image/png\";\n",
       "\n",
       "            /* Free the memory for the previous frames */\n",
       "            if (fig.imageObj.src) {\n",
       "                (window.URL || window.webkitURL).revokeObjectURL(\n",
       "                    fig.imageObj.src);\n",
       "            }\n",
       "\n",
       "            fig.imageObj.src = (window.URL || window.webkitURL).createObjectURL(\n",
       "                evt.data);\n",
       "            fig.updated_canvas_event();\n",
       "            fig.waiting = false;\n",
       "            return;\n",
       "        }\n",
       "        else if (typeof evt.data === 'string' && evt.data.slice(0, 21) == \"data:image/png;base64\") {\n",
       "            fig.imageObj.src = evt.data;\n",
       "            fig.updated_canvas_event();\n",
       "            fig.waiting = false;\n",
       "            return;\n",
       "        }\n",
       "\n",
       "        var msg = JSON.parse(evt.data);\n",
       "        var msg_type = msg['type'];\n",
       "\n",
       "        // Call the  \"handle_{type}\" callback, which takes\n",
       "        // the figure and JSON message as its only arguments.\n",
       "        try {\n",
       "            var callback = fig[\"handle_\" + msg_type];\n",
       "        } catch (e) {\n",
       "            console.log(\"No handler for the '\" + msg_type + \"' message type: \", msg);\n",
       "            return;\n",
       "        }\n",
       "\n",
       "        if (callback) {\n",
       "            try {\n",
       "                // console.log(\"Handling '\" + msg_type + \"' message: \", msg);\n",
       "                callback(fig, msg);\n",
       "            } catch (e) {\n",
       "                console.log(\"Exception inside the 'handler_\" + msg_type + \"' callback:\", e, e.stack, msg);\n",
       "            }\n",
       "        }\n",
       "    };\n",
       "}\n",
       "\n",
       "// from http://stackoverflow.com/questions/1114465/getting-mouse-location-in-canvas\n",
       "mpl.findpos = function(e) {\n",
       "    //this section is from http://www.quirksmode.org/js/events_properties.html\n",
       "    var targ;\n",
       "    if (!e)\n",
       "        e = window.event;\n",
       "    if (e.target)\n",
       "        targ = e.target;\n",
       "    else if (e.srcElement)\n",
       "        targ = e.srcElement;\n",
       "    if (targ.nodeType == 3) // defeat Safari bug\n",
       "        targ = targ.parentNode;\n",
       "\n",
       "    // jQuery normalizes the pageX and pageY\n",
       "    // pageX,Y are the mouse positions relative to the document\n",
       "    // offset() returns the position of the element relative to the document\n",
       "    var x = e.pageX - $(targ).offset().left;\n",
       "    var y = e.pageY - $(targ).offset().top;\n",
       "\n",
       "    return {\"x\": x, \"y\": y};\n",
       "};\n",
       "\n",
       "/*\n",
       " * return a copy of an object with only non-object keys\n",
       " * we need this to avoid circular references\n",
       " * http://stackoverflow.com/a/24161582/3208463\n",
       " */\n",
       "function simpleKeys (original) {\n",
       "  return Object.keys(original).reduce(function (obj, key) {\n",
       "    if (typeof original[key] !== 'object')\n",
       "        obj[key] = original[key]\n",
       "    return obj;\n",
       "  }, {});\n",
       "}\n",
       "\n",
       "mpl.figure.prototype.mouse_event = function(event, name) {\n",
       "    var canvas_pos = mpl.findpos(event)\n",
       "\n",
       "    if (name === 'button_press')\n",
       "    {\n",
       "        this.canvas.focus();\n",
       "        this.canvas_div.focus();\n",
       "    }\n",
       "\n",
       "    var x = canvas_pos.x * mpl.ratio;\n",
       "    var y = canvas_pos.y * mpl.ratio;\n",
       "\n",
       "    this.send_message(name, {x: x, y: y, button: event.button,\n",
       "                             step: event.step,\n",
       "                             guiEvent: simpleKeys(event)});\n",
       "\n",
       "    /* This prevents the web browser from automatically changing to\n",
       "     * the text insertion cursor when the button is pressed.  We want\n",
       "     * to control all of the cursor setting manually through the\n",
       "     * 'cursor' event from matplotlib */\n",
       "    event.preventDefault();\n",
       "    return false;\n",
       "}\n",
       "\n",
       "mpl.figure.prototype._key_event_extra = function(event, name) {\n",
       "    // Handle any extra behaviour associated with a key event\n",
       "}\n",
       "\n",
       "mpl.figure.prototype.key_event = function(event, name) {\n",
       "\n",
       "    // Prevent repeat events\n",
       "    if (name == 'key_press')\n",
       "    {\n",
       "        if (event.which === this._key)\n",
       "            return;\n",
       "        else\n",
       "            this._key = event.which;\n",
       "    }\n",
       "    if (name == 'key_release')\n",
       "        this._key = null;\n",
       "\n",
       "    var value = '';\n",
       "    if (event.ctrlKey && event.which != 17)\n",
       "        value += \"ctrl+\";\n",
       "    if (event.altKey && event.which != 18)\n",
       "        value += \"alt+\";\n",
       "    if (event.shiftKey && event.which != 16)\n",
       "        value += \"shift+\";\n",
       "\n",
       "    value += 'k';\n",
       "    value += event.which.toString();\n",
       "\n",
       "    this._key_event_extra(event, name);\n",
       "\n",
       "    this.send_message(name, {key: value,\n",
       "                             guiEvent: simpleKeys(event)});\n",
       "    return false;\n",
       "}\n",
       "\n",
       "mpl.figure.prototype.toolbar_button_onclick = function(name) {\n",
       "    if (name == 'download') {\n",
       "        this.handle_save(this, null);\n",
       "    } else {\n",
       "        this.send_message(\"toolbar_button\", {name: name});\n",
       "    }\n",
       "};\n",
       "\n",
       "mpl.figure.prototype.toolbar_button_onmouseover = function(tooltip) {\n",
       "    this.message.textContent = tooltip;\n",
       "};\n",
       "mpl.toolbar_items = [[\"Home\", \"Reset original view\", \"fa fa-home icon-home\", \"home\"], [\"Back\", \"Back to previous view\", \"fa fa-arrow-left icon-arrow-left\", \"back\"], [\"Forward\", \"Forward to next view\", \"fa fa-arrow-right icon-arrow-right\", \"forward\"], [\"\", \"\", \"\", \"\"], [\"Pan\", \"Pan axes with left mouse, zoom with right\", \"fa fa-arrows icon-move\", \"pan\"], [\"Zoom\", \"Zoom to rectangle\", \"fa fa-square-o icon-check-empty\", \"zoom\"], [\"\", \"\", \"\", \"\"], [\"Download\", \"Download plot\", \"fa fa-floppy-o icon-save\", \"download\"]];\n",
       "\n",
       "mpl.extensions = [\"eps\", \"jpeg\", \"pdf\", \"png\", \"ps\", \"raw\", \"svg\", \"tif\"];\n",
       "\n",
       "mpl.default_extension = \"png\";var comm_websocket_adapter = function(comm) {\n",
       "    // Create a \"websocket\"-like object which calls the given IPython comm\n",
       "    // object with the appropriate methods. Currently this is a non binary\n",
       "    // socket, so there is still some room for performance tuning.\n",
       "    var ws = {};\n",
       "\n",
       "    ws.close = function() {\n",
       "        comm.close()\n",
       "    };\n",
       "    ws.send = function(m) {\n",
       "        //console.log('sending', m);\n",
       "        comm.send(m);\n",
       "    };\n",
       "    // Register the callback with on_msg.\n",
       "    comm.on_msg(function(msg) {\n",
       "        //console.log('receiving', msg['content']['data'], msg);\n",
       "        // Pass the mpl event to the overridden (by mpl) onmessage function.\n",
       "        ws.onmessage(msg['content']['data'])\n",
       "    });\n",
       "    return ws;\n",
       "}\n",
       "\n",
       "mpl.mpl_figure_comm = function(comm, msg) {\n",
       "    // This is the function which gets called when the mpl process\n",
       "    // starts-up an IPython Comm through the \"matplotlib\" channel.\n",
       "\n",
       "    var id = msg.content.data.id;\n",
       "    // Get hold of the div created by the display call when the Comm\n",
       "    // socket was opened in Python.\n",
       "    var element = $(\"#\" + id);\n",
       "    var ws_proxy = comm_websocket_adapter(comm)\n",
       "\n",
       "    function ondownload(figure, format) {\n",
       "        window.open(figure.imageObj.src);\n",
       "    }\n",
       "\n",
       "    var fig = new mpl.figure(id, ws_proxy,\n",
       "                           ondownload,\n",
       "                           element.get(0));\n",
       "\n",
       "    // Call onopen now - mpl needs it, as it is assuming we've passed it a real\n",
       "    // web socket which is closed, not our websocket->open comm proxy.\n",
       "    ws_proxy.onopen();\n",
       "\n",
       "    fig.parent_element = element.get(0);\n",
       "    fig.cell_info = mpl.find_output_cell(\"<div id='\" + id + \"'></div>\");\n",
       "    if (!fig.cell_info) {\n",
       "        console.error(\"Failed to find cell for figure\", id, fig);\n",
       "        return;\n",
       "    }\n",
       "\n",
       "    var output_index = fig.cell_info[2]\n",
       "    var cell = fig.cell_info[0];\n",
       "\n",
       "};\n",
       "\n",
       "mpl.figure.prototype.handle_close = function(fig, msg) {\n",
       "    var width = fig.canvas.width/mpl.ratio\n",
       "    fig.root.unbind('remove')\n",
       "\n",
       "    // Update the output cell to use the data from the current canvas.\n",
       "    fig.push_to_output();\n",
       "    var dataURL = fig.canvas.toDataURL();\n",
       "    // Re-enable the keyboard manager in IPython - without this line, in FF,\n",
       "    // the notebook keyboard shortcuts fail.\n",
       "    IPython.keyboard_manager.enable()\n",
       "    $(fig.parent_element).html('<img src=\"' + dataURL + '\" width=\"' + width + '\">');\n",
       "    fig.close_ws(fig, msg);\n",
       "}\n",
       "\n",
       "mpl.figure.prototype.close_ws = function(fig, msg){\n",
       "    fig.send_message('closing', msg);\n",
       "    // fig.ws.close()\n",
       "}\n",
       "\n",
       "mpl.figure.prototype.push_to_output = function(remove_interactive) {\n",
       "    // Turn the data on the canvas into data in the output cell.\n",
       "    var width = this.canvas.width/mpl.ratio\n",
       "    var dataURL = this.canvas.toDataURL();\n",
       "    this.cell_info[1]['text/html'] = '<img src=\"' + dataURL + '\" width=\"' + width + '\">';\n",
       "}\n",
       "\n",
       "mpl.figure.prototype.updated_canvas_event = function() {\n",
       "    // Tell IPython that the notebook contents must change.\n",
       "    IPython.notebook.set_dirty(true);\n",
       "    this.send_message(\"ack\", {});\n",
       "    var fig = this;\n",
       "    // Wait a second, then push the new image to the DOM so\n",
       "    // that it is saved nicely (might be nice to debounce this).\n",
       "    setTimeout(function () { fig.push_to_output() }, 1000);\n",
       "}\n",
       "\n",
       "mpl.figure.prototype._init_toolbar = function() {\n",
       "    var fig = this;\n",
       "\n",
       "    var nav_element = $('<div/>')\n",
       "    nav_element.attr('style', 'width: 100%');\n",
       "    this.root.append(nav_element);\n",
       "\n",
       "    // Define a callback function for later on.\n",
       "    function toolbar_event(event) {\n",
       "        return fig.toolbar_button_onclick(event['data']);\n",
       "    }\n",
       "    function toolbar_mouse_event(event) {\n",
       "        return fig.toolbar_button_onmouseover(event['data']);\n",
       "    }\n",
       "\n",
       "    for(var toolbar_ind in mpl.toolbar_items){\n",
       "        var name = mpl.toolbar_items[toolbar_ind][0];\n",
       "        var tooltip = mpl.toolbar_items[toolbar_ind][1];\n",
       "        var image = mpl.toolbar_items[toolbar_ind][2];\n",
       "        var method_name = mpl.toolbar_items[toolbar_ind][3];\n",
       "\n",
       "        if (!name) { continue; };\n",
       "\n",
       "        var button = $('<button class=\"btn btn-default\" href=\"#\" title=\"' + name + '\"><i class=\"fa ' + image + ' fa-lg\"></i></button>');\n",
       "        button.click(method_name, toolbar_event);\n",
       "        button.mouseover(tooltip, toolbar_mouse_event);\n",
       "        nav_element.append(button);\n",
       "    }\n",
       "\n",
       "    // Add the status bar.\n",
       "    var status_bar = $('<span class=\"mpl-message\" style=\"text-align:right; float: right;\"/>');\n",
       "    nav_element.append(status_bar);\n",
       "    this.message = status_bar[0];\n",
       "\n",
       "    // Add the close button to the window.\n",
       "    var buttongrp = $('<div class=\"btn-group inline pull-right\"></div>');\n",
       "    var button = $('<button class=\"btn btn-mini btn-primary\" href=\"#\" title=\"Stop Interaction\"><i class=\"fa fa-power-off icon-remove icon-large\"></i></button>');\n",
       "    button.click(function (evt) { fig.handle_close(fig, {}); } );\n",
       "    button.mouseover('Stop Interaction', toolbar_mouse_event);\n",
       "    buttongrp.append(button);\n",
       "    var titlebar = this.root.find($('.ui-dialog-titlebar'));\n",
       "    titlebar.prepend(buttongrp);\n",
       "}\n",
       "\n",
       "mpl.figure.prototype._root_extra_style = function(el){\n",
       "    var fig = this\n",
       "    el.on(\"remove\", function(){\n",
       "\tfig.close_ws(fig, {});\n",
       "    });\n",
       "}\n",
       "\n",
       "mpl.figure.prototype._canvas_extra_style = function(el){\n",
       "    // this is important to make the div 'focusable\n",
       "    el.attr('tabindex', 0)\n",
       "    // reach out to IPython and tell the keyboard manager to turn it's self\n",
       "    // off when our div gets focus\n",
       "\n",
       "    // location in version 3\n",
       "    if (IPython.notebook.keyboard_manager) {\n",
       "        IPython.notebook.keyboard_manager.register_events(el);\n",
       "    }\n",
       "    else {\n",
       "        // location in version 2\n",
       "        IPython.keyboard_manager.register_events(el);\n",
       "    }\n",
       "\n",
       "}\n",
       "\n",
       "mpl.figure.prototype._key_event_extra = function(event, name) {\n",
       "    var manager = IPython.notebook.keyboard_manager;\n",
       "    if (!manager)\n",
       "        manager = IPython.keyboard_manager;\n",
       "\n",
       "    // Check for shift+enter\n",
       "    if (event.shiftKey && event.which == 13) {\n",
       "        this.canvas_div.blur();\n",
       "        event.shiftKey = false;\n",
       "        // Send a \"J\" for go to next cell\n",
       "        event.which = 74;\n",
       "        event.keyCode = 74;\n",
       "        manager.command_mode();\n",
       "        manager.handle_keydown(event);\n",
       "    }\n",
       "}\n",
       "\n",
       "mpl.figure.prototype.handle_save = function(fig, msg) {\n",
       "    fig.ondownload(fig, null);\n",
       "}\n",
       "\n",
       "\n",
       "mpl.find_output_cell = function(html_output) {\n",
       "    // Return the cell and output element which can be found *uniquely* in the notebook.\n",
       "    // Note - this is a bit hacky, but it is done because the \"notebook_saving.Notebook\"\n",
       "    // IPython event is triggered only after the cells have been serialised, which for\n",
       "    // our purposes (turning an active figure into a static one), is too late.\n",
       "    var cells = IPython.notebook.get_cells();\n",
       "    var ncells = cells.length;\n",
       "    for (var i=0; i<ncells; i++) {\n",
       "        var cell = cells[i];\n",
       "        if (cell.cell_type === 'code'){\n",
       "            for (var j=0; j<cell.output_area.outputs.length; j++) {\n",
       "                var data = cell.output_area.outputs[j];\n",
       "                if (data.data) {\n",
       "                    // IPython >= 3 moved mimebundle to data attribute of output\n",
       "                    data = data.data;\n",
       "                }\n",
       "                if (data['text/html'] == html_output) {\n",
       "                    return [cell, data, j];\n",
       "                }\n",
       "            }\n",
       "        }\n",
       "    }\n",
       "}\n",
       "\n",
       "// Register the function which deals with the matplotlib target/channel.\n",
       "// The kernel may be null if the page has been refreshed.\n",
       "if (IPython.notebook.kernel != null) {\n",
       "    IPython.notebook.kernel.comm_manager.register_target('matplotlib', mpl.mpl_figure_comm);\n",
       "}\n"
      ],
      "text/plain": [
       "<IPython.core.display.Javascript object>"
      ]
     },
     "metadata": {},
     "output_type": "display_data"
    },
    {
     "data": {
      "text/html": [
       "<img src=\"data:image/png;base64,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\" width=\"640\">"
      ],
      "text/plain": [
       "<IPython.core.display.HTML object>"
      ]
     },
     "metadata": {},
     "output_type": "display_data"
    }
   ],
   "source": [
    "gamma = np.linspace(0,1,100).reshape(100,1)\n",
    "\n",
    "res = gamma@payment_matrix.min(axis=1).reshape(1,4) + (1-gamma)@payment_matrix.max(axis=1).reshape(1,4)\n",
    "a = np.array(a)\n",
    "plt.plot(gamma, a[np.argmax(res, axis=1)])\n",
    "plt.grid()"
   ]
  },
  {
   "cell_type": "markdown",
   "metadata": {},
   "source": [
    "## Задание №4\n",
    "\n",
    "Обыватель имеет возможность выделить 10 у.е. на формирование портфеля акций. Ценные бумаги можно приобрести у компаний А, В и С. Номинальная стоимость акции первой компании составляет 3 у.е., второй — 2 у.е., третьей — 5 у.е. На конец финансового года рынок ценных бумаг может оказаться в одном из двух состояний Z и W. Эксперты установили, что дивиденды компании А для состояния Z на конец года составят 10% от номинальной стоимости акции, а для состояния W — 15%; для компании В соответственно 8 и 12 %; для компании С — 14 и 8%.\n",
    "\n",
    "Сформировать портфель акций обывателю, обеспечив ему возможно большую прибыль. Оптимум выбирать по критериям Байеса, Вальда, Сэвиджа и Гурвица."
   ]
  },
  {
   "cell_type": "code",
   "execution_count": 345,
   "metadata": {
    "ExecuteTime": {
     "end_time": "2019-04-01T18:50:06.224494Z",
     "start_time": "2019-04-01T18:50:06.220491Z"
    }
   },
   "outputs": [],
   "source": [
    "payment_matrix = np.array([[0.10, 0.08, 0.14],\n",
    "                           [0.15, 0.12, 0.08]])"
   ]
  },
  {
   "cell_type": "markdown",
   "metadata": {
    "ExecuteTime": {
     "end_time": "2019-04-01T17:42:50.249871Z",
     "start_time": "2019-04-01T17:42:50.240866Z"
    }
   },
   "source": [
    "### Критерий Байеса"
   ]
  },
  {
   "cell_type": "code",
   "execution_count": 346,
   "metadata": {
    "ExecuteTime": {
     "end_time": "2019-04-01T18:50:06.612998Z",
     "start_time": "2019-04-01T18:50:06.608997Z"
    }
   },
   "outputs": [
    {
     "data": {
      "text/plain": [
       "array([0.125, 0.1  , 0.11 ])"
      ]
     },
     "execution_count": 346,
     "metadata": {},
     "output_type": "execute_result"
    }
   ],
   "source": [
    "res = payment_matrix.mean(axis=0)\n",
    "res"
   ]
  },
  {
   "cell_type": "code",
   "execution_count": 347,
   "metadata": {
    "ExecuteTime": {
     "end_time": "2019-04-01T18:50:06.805139Z",
     "start_time": "2019-04-01T18:50:06.802137Z"
    }
   },
   "outputs": [
    {
     "data": {
      "text/plain": [
       "0"
      ]
     },
     "execution_count": 347,
     "metadata": {},
     "output_type": "execute_result"
    }
   ],
   "source": [
    "np.argmax(res)"
   ]
  },
  {
   "cell_type": "markdown",
   "metadata": {
    "ExecuteTime": {
     "end_time": "2019-04-01T18:30:46.612176Z",
     "start_time": "2019-04-01T18:30:46.603175Z"
    }
   },
   "source": [
    "### Критерий Вальда"
   ]
  },
  {
   "cell_type": "code",
   "execution_count": 348,
   "metadata": {
    "ExecuteTime": {
     "end_time": "2019-04-01T18:50:07.186971Z",
     "start_time": "2019-04-01T18:50:07.182968Z"
    }
   },
   "outputs": [
    {
     "data": {
      "text/plain": [
       "array([0.1 , 0.08, 0.08])"
      ]
     },
     "execution_count": 348,
     "metadata": {},
     "output_type": "execute_result"
    }
   ],
   "source": [
    "res = payment_matrix.min(axis=0)\n",
    "res"
   ]
  },
  {
   "cell_type": "code",
   "execution_count": 349,
   "metadata": {
    "ExecuteTime": {
     "end_time": "2019-04-01T18:50:07.362236Z",
     "start_time": "2019-04-01T18:50:07.357234Z"
    }
   },
   "outputs": [
    {
     "data": {
      "text/plain": [
       "0"
      ]
     },
     "execution_count": 349,
     "metadata": {},
     "output_type": "execute_result"
    }
   ],
   "source": [
    "np.argmax(res)"
   ]
  },
  {
   "cell_type": "markdown",
   "metadata": {
    "ExecuteTime": {
     "end_time": "2019-04-01T18:45:40.899457Z",
     "start_time": "2019-04-01T18:45:40.894455Z"
    }
   },
   "source": [
    "### Критерий Сэвиджа"
   ]
  },
  {
   "cell_type": "code",
   "execution_count": 350,
   "metadata": {
    "ExecuteTime": {
     "end_time": "2019-04-01T18:50:07.719657Z",
     "start_time": "2019-04-01T18:50:07.715654Z"
    }
   },
   "outputs": [
    {
     "data": {
      "text/plain": [
       "array([[0.04, 0.06, 0.  ],\n",
       "       [0.  , 0.03, 0.07]])"
      ]
     },
     "execution_count": 350,
     "metadata": {},
     "output_type": "execute_result"
    }
   ],
   "source": [
    "payment_matrix.max(axis = 1).reshape(2,1)-payment_matrix"
   ]
  },
  {
   "cell_type": "code",
   "execution_count": 351,
   "metadata": {
    "ExecuteTime": {
     "end_time": "2019-04-01T18:50:07.863272Z",
     "start_time": "2019-04-01T18:50:07.859271Z"
    }
   },
   "outputs": [
    {
     "data": {
      "text/plain": [
       "array([[0.05, 0.04, 0.  ],\n",
       "       [0.  , 0.  , 0.06]])"
      ]
     },
     "execution_count": 351,
     "metadata": {},
     "output_type": "execute_result"
    }
   ],
   "source": [
    "R = payment_matrix.max(axis=0) - payment_matrix\n",
    "R"
   ]
  },
  {
   "cell_type": "code",
   "execution_count": 352,
   "metadata": {
    "ExecuteTime": {
     "end_time": "2019-04-01T18:50:08.063409Z",
     "start_time": "2019-04-01T18:50:08.059408Z"
    }
   },
   "outputs": [
    {
     "data": {
      "text/plain": [
       "array([0.05, 0.04, 0.06])"
      ]
     },
     "execution_count": 352,
     "metadata": {},
     "output_type": "execute_result"
    }
   ],
   "source": [
    "R.max(axis=0)"
   ]
  },
  {
   "cell_type": "code",
   "execution_count": 353,
   "metadata": {
    "ExecuteTime": {
     "end_time": "2019-04-01T18:50:08.248901Z",
     "start_time": "2019-04-01T18:50:08.243899Z"
    }
   },
   "outputs": [
    {
     "data": {
      "text/plain": [
       "1"
      ]
     },
     "execution_count": 353,
     "metadata": {},
     "output_type": "execute_result"
    }
   ],
   "source": [
    "np.argmin(R.max(axis=0))"
   ]
  },
  {
   "cell_type": "markdown",
   "metadata": {
    "ExecuteTime": {
     "end_time": "2019-04-01T18:46:59.692616Z",
     "start_time": "2019-04-01T18:46:59.688613Z"
    }
   },
   "source": [
    "### Критерий Гурвица"
   ]
  },
  {
   "cell_type": "code",
   "execution_count": 354,
   "metadata": {
    "ExecuteTime": {
     "end_time": "2019-04-01T18:50:08.995766Z",
     "start_time": "2019-04-01T18:50:08.970771Z"
    }
   },
   "outputs": [
    {
     "data": {
      "application/javascript": [
       "/* Put everything inside the global mpl namespace */\n",
       "window.mpl = {};\n",
       "\n",
       "\n",
       "mpl.get_websocket_type = function() {\n",
       "    if (typeof(WebSocket) !== 'undefined') {\n",
       "        return WebSocket;\n",
       "    } else if (typeof(MozWebSocket) !== 'undefined') {\n",
       "        return MozWebSocket;\n",
       "    } else {\n",
       "        alert('Your browser does not have WebSocket support.' +\n",
       "              'Please try Chrome, Safari or Firefox ≥ 6. ' +\n",
       "              'Firefox 4 and 5 are also supported but you ' +\n",
       "              'have to enable WebSockets in about:config.');\n",
       "    };\n",
       "}\n",
       "\n",
       "mpl.figure = function(figure_id, websocket, ondownload, parent_element) {\n",
       "    this.id = figure_id;\n",
       "\n",
       "    this.ws = websocket;\n",
       "\n",
       "    this.supports_binary = (this.ws.binaryType != undefined);\n",
       "\n",
       "    if (!this.supports_binary) {\n",
       "        var warnings = document.getElementById(\"mpl-warnings\");\n",
       "        if (warnings) {\n",
       "            warnings.style.display = 'block';\n",
       "            warnings.textContent = (\n",
       "                \"This browser does not support binary websocket messages. \" +\n",
       "                    \"Performance may be slow.\");\n",
       "        }\n",
       "    }\n",
       "\n",
       "    this.imageObj = new Image();\n",
       "\n",
       "    this.context = undefined;\n",
       "    this.message = undefined;\n",
       "    this.canvas = undefined;\n",
       "    this.rubberband_canvas = undefined;\n",
       "    this.rubberband_context = undefined;\n",
       "    this.format_dropdown = undefined;\n",
       "\n",
       "    this.image_mode = 'full';\n",
       "\n",
       "    this.root = $('<div/>');\n",
       "    this._root_extra_style(this.root)\n",
       "    this.root.attr('style', 'display: inline-block');\n",
       "\n",
       "    $(parent_element).append(this.root);\n",
       "\n",
       "    this._init_header(this);\n",
       "    this._init_canvas(this);\n",
       "    this._init_toolbar(this);\n",
       "\n",
       "    var fig = this;\n",
       "\n",
       "    this.waiting = false;\n",
       "\n",
       "    this.ws.onopen =  function () {\n",
       "            fig.send_message(\"supports_binary\", {value: fig.supports_binary});\n",
       "            fig.send_message(\"send_image_mode\", {});\n",
       "            if (mpl.ratio != 1) {\n",
       "                fig.send_message(\"set_dpi_ratio\", {'dpi_ratio': mpl.ratio});\n",
       "            }\n",
       "            fig.send_message(\"refresh\", {});\n",
       "        }\n",
       "\n",
       "    this.imageObj.onload = function() {\n",
       "            if (fig.image_mode == 'full') {\n",
       "                // Full images could contain transparency (where diff images\n",
       "                // almost always do), so we need to clear the canvas so that\n",
       "                // there is no ghosting.\n",
       "                fig.context.clearRect(0, 0, fig.canvas.width, fig.canvas.height);\n",
       "            }\n",
       "            fig.context.drawImage(fig.imageObj, 0, 0);\n",
       "        };\n",
       "\n",
       "    this.imageObj.onunload = function() {\n",
       "        fig.ws.close();\n",
       "    }\n",
       "\n",
       "    this.ws.onmessage = this._make_on_message_function(this);\n",
       "\n",
       "    this.ondownload = ondownload;\n",
       "}\n",
       "\n",
       "mpl.figure.prototype._init_header = function() {\n",
       "    var titlebar = $(\n",
       "        '<div class=\"ui-dialog-titlebar ui-widget-header ui-corner-all ' +\n",
       "        'ui-helper-clearfix\"/>');\n",
       "    var titletext = $(\n",
       "        '<div class=\"ui-dialog-title\" style=\"width: 100%; ' +\n",
       "        'text-align: center; padding: 3px;\"/>');\n",
       "    titlebar.append(titletext)\n",
       "    this.root.append(titlebar);\n",
       "    this.header = titletext[0];\n",
       "}\n",
       "\n",
       "\n",
       "\n",
       "mpl.figure.prototype._canvas_extra_style = function(canvas_div) {\n",
       "\n",
       "}\n",
       "\n",
       "\n",
       "mpl.figure.prototype._root_extra_style = function(canvas_div) {\n",
       "\n",
       "}\n",
       "\n",
       "mpl.figure.prototype._init_canvas = function() {\n",
       "    var fig = this;\n",
       "\n",
       "    var canvas_div = $('<div/>');\n",
       "\n",
       "    canvas_div.attr('style', 'position: relative; clear: both; outline: 0');\n",
       "\n",
       "    function canvas_keyboard_event(event) {\n",
       "        return fig.key_event(event, event['data']);\n",
       "    }\n",
       "\n",
       "    canvas_div.keydown('key_press', canvas_keyboard_event);\n",
       "    canvas_div.keyup('key_release', canvas_keyboard_event);\n",
       "    this.canvas_div = canvas_div\n",
       "    this._canvas_extra_style(canvas_div)\n",
       "    this.root.append(canvas_div);\n",
       "\n",
       "    var canvas = $('<canvas/>');\n",
       "    canvas.addClass('mpl-canvas');\n",
       "    canvas.attr('style', \"left: 0; top: 0; z-index: 0; outline: 0\")\n",
       "\n",
       "    this.canvas = canvas[0];\n",
       "    this.context = canvas[0].getContext(\"2d\");\n",
       "\n",
       "    var backingStore = this.context.backingStorePixelRatio ||\n",
       "\tthis.context.webkitBackingStorePixelRatio ||\n",
       "\tthis.context.mozBackingStorePixelRatio ||\n",
       "\tthis.context.msBackingStorePixelRatio ||\n",
       "\tthis.context.oBackingStorePixelRatio ||\n",
       "\tthis.context.backingStorePixelRatio || 1;\n",
       "\n",
       "    mpl.ratio = (window.devicePixelRatio || 1) / backingStore;\n",
       "\n",
       "    var rubberband = $('<canvas/>');\n",
       "    rubberband.attr('style', \"position: absolute; left: 0; top: 0; z-index: 1;\")\n",
       "\n",
       "    var pass_mouse_events = true;\n",
       "\n",
       "    canvas_div.resizable({\n",
       "        start: function(event, ui) {\n",
       "            pass_mouse_events = false;\n",
       "        },\n",
       "        resize: function(event, ui) {\n",
       "            fig.request_resize(ui.size.width, ui.size.height);\n",
       "        },\n",
       "        stop: function(event, ui) {\n",
       "            pass_mouse_events = true;\n",
       "            fig.request_resize(ui.size.width, ui.size.height);\n",
       "        },\n",
       "    });\n",
       "\n",
       "    function mouse_event_fn(event) {\n",
       "        if (pass_mouse_events)\n",
       "            return fig.mouse_event(event, event['data']);\n",
       "    }\n",
       "\n",
       "    rubberband.mousedown('button_press', mouse_event_fn);\n",
       "    rubberband.mouseup('button_release', mouse_event_fn);\n",
       "    // Throttle sequential mouse events to 1 every 20ms.\n",
       "    rubberband.mousemove('motion_notify', mouse_event_fn);\n",
       "\n",
       "    rubberband.mouseenter('figure_enter', mouse_event_fn);\n",
       "    rubberband.mouseleave('figure_leave', mouse_event_fn);\n",
       "\n",
       "    canvas_div.on(\"wheel\", function (event) {\n",
       "        event = event.originalEvent;\n",
       "        event['data'] = 'scroll'\n",
       "        if (event.deltaY < 0) {\n",
       "            event.step = 1;\n",
       "        } else {\n",
       "            event.step = -1;\n",
       "        }\n",
       "        mouse_event_fn(event);\n",
       "    });\n",
       "\n",
       "    canvas_div.append(canvas);\n",
       "    canvas_div.append(rubberband);\n",
       "\n",
       "    this.rubberband = rubberband;\n",
       "    this.rubberband_canvas = rubberband[0];\n",
       "    this.rubberband_context = rubberband[0].getContext(\"2d\");\n",
       "    this.rubberband_context.strokeStyle = \"#000000\";\n",
       "\n",
       "    this._resize_canvas = function(width, height) {\n",
       "        // Keep the size of the canvas, canvas container, and rubber band\n",
       "        // canvas in synch.\n",
       "        canvas_div.css('width', width)\n",
       "        canvas_div.css('height', height)\n",
       "\n",
       "        canvas.attr('width', width * mpl.ratio);\n",
       "        canvas.attr('height', height * mpl.ratio);\n",
       "        canvas.attr('style', 'width: ' + width + 'px; height: ' + height + 'px;');\n",
       "\n",
       "        rubberband.attr('width', width);\n",
       "        rubberband.attr('height', height);\n",
       "    }\n",
       "\n",
       "    // Set the figure to an initial 600x600px, this will subsequently be updated\n",
       "    // upon first draw.\n",
       "    this._resize_canvas(600, 600);\n",
       "\n",
       "    // Disable right mouse context menu.\n",
       "    $(this.rubberband_canvas).bind(\"contextmenu\",function(e){\n",
       "        return false;\n",
       "    });\n",
       "\n",
       "    function set_focus () {\n",
       "        canvas.focus();\n",
       "        canvas_div.focus();\n",
       "    }\n",
       "\n",
       "    window.setTimeout(set_focus, 100);\n",
       "}\n",
       "\n",
       "mpl.figure.prototype._init_toolbar = function() {\n",
       "    var fig = this;\n",
       "\n",
       "    var nav_element = $('<div/>')\n",
       "    nav_element.attr('style', 'width: 100%');\n",
       "    this.root.append(nav_element);\n",
       "\n",
       "    // Define a callback function for later on.\n",
       "    function toolbar_event(event) {\n",
       "        return fig.toolbar_button_onclick(event['data']);\n",
       "    }\n",
       "    function toolbar_mouse_event(event) {\n",
       "        return fig.toolbar_button_onmouseover(event['data']);\n",
       "    }\n",
       "\n",
       "    for(var toolbar_ind in mpl.toolbar_items) {\n",
       "        var name = mpl.toolbar_items[toolbar_ind][0];\n",
       "        var tooltip = mpl.toolbar_items[toolbar_ind][1];\n",
       "        var image = mpl.toolbar_items[toolbar_ind][2];\n",
       "        var method_name = mpl.toolbar_items[toolbar_ind][3];\n",
       "\n",
       "        if (!name) {\n",
       "            // put a spacer in here.\n",
       "            continue;\n",
       "        }\n",
       "        var button = $('<button/>');\n",
       "        button.addClass('ui-button ui-widget ui-state-default ui-corner-all ' +\n",
       "                        'ui-button-icon-only');\n",
       "        button.attr('role', 'button');\n",
       "        button.attr('aria-disabled', 'false');\n",
       "        button.click(method_name, toolbar_event);\n",
       "        button.mouseover(tooltip, toolbar_mouse_event);\n",
       "\n",
       "        var icon_img = $('<span/>');\n",
       "        icon_img.addClass('ui-button-icon-primary ui-icon');\n",
       "        icon_img.addClass(image);\n",
       "        icon_img.addClass('ui-corner-all');\n",
       "\n",
       "        var tooltip_span = $('<span/>');\n",
       "        tooltip_span.addClass('ui-button-text');\n",
       "        tooltip_span.html(tooltip);\n",
       "\n",
       "        button.append(icon_img);\n",
       "        button.append(tooltip_span);\n",
       "\n",
       "        nav_element.append(button);\n",
       "    }\n",
       "\n",
       "    var fmt_picker_span = $('<span/>');\n",
       "\n",
       "    var fmt_picker = $('<select/>');\n",
       "    fmt_picker.addClass('mpl-toolbar-option ui-widget ui-widget-content');\n",
       "    fmt_picker_span.append(fmt_picker);\n",
       "    nav_element.append(fmt_picker_span);\n",
       "    this.format_dropdown = fmt_picker[0];\n",
       "\n",
       "    for (var ind in mpl.extensions) {\n",
       "        var fmt = mpl.extensions[ind];\n",
       "        var option = $(\n",
       "            '<option/>', {selected: fmt === mpl.default_extension}).html(fmt);\n",
       "        fmt_picker.append(option)\n",
       "    }\n",
       "\n",
       "    // Add hover states to the ui-buttons\n",
       "    $( \".ui-button\" ).hover(\n",
       "        function() { $(this).addClass(\"ui-state-hover\");},\n",
       "        function() { $(this).removeClass(\"ui-state-hover\");}\n",
       "    );\n",
       "\n",
       "    var status_bar = $('<span class=\"mpl-message\"/>');\n",
       "    nav_element.append(status_bar);\n",
       "    this.message = status_bar[0];\n",
       "}\n",
       "\n",
       "mpl.figure.prototype.request_resize = function(x_pixels, y_pixels) {\n",
       "    // Request matplotlib to resize the figure. Matplotlib will then trigger a resize in the client,\n",
       "    // which will in turn request a refresh of the image.\n",
       "    this.send_message('resize', {'width': x_pixels, 'height': y_pixels});\n",
       "}\n",
       "\n",
       "mpl.figure.prototype.send_message = function(type, properties) {\n",
       "    properties['type'] = type;\n",
       "    properties['figure_id'] = this.id;\n",
       "    this.ws.send(JSON.stringify(properties));\n",
       "}\n",
       "\n",
       "mpl.figure.prototype.send_draw_message = function() {\n",
       "    if (!this.waiting) {\n",
       "        this.waiting = true;\n",
       "        this.ws.send(JSON.stringify({type: \"draw\", figure_id: this.id}));\n",
       "    }\n",
       "}\n",
       "\n",
       "\n",
       "mpl.figure.prototype.handle_save = function(fig, msg) {\n",
       "    var format_dropdown = fig.format_dropdown;\n",
       "    var format = format_dropdown.options[format_dropdown.selectedIndex].value;\n",
       "    fig.ondownload(fig, format);\n",
       "}\n",
       "\n",
       "\n",
       "mpl.figure.prototype.handle_resize = function(fig, msg) {\n",
       "    var size = msg['size'];\n",
       "    if (size[0] != fig.canvas.width || size[1] != fig.canvas.height) {\n",
       "        fig._resize_canvas(size[0], size[1]);\n",
       "        fig.send_message(\"refresh\", {});\n",
       "    };\n",
       "}\n",
       "\n",
       "mpl.figure.prototype.handle_rubberband = function(fig, msg) {\n",
       "    var x0 = msg['x0'] / mpl.ratio;\n",
       "    var y0 = (fig.canvas.height - msg['y0']) / mpl.ratio;\n",
       "    var x1 = msg['x1'] / mpl.ratio;\n",
       "    var y1 = (fig.canvas.height - msg['y1']) / mpl.ratio;\n",
       "    x0 = Math.floor(x0) + 0.5;\n",
       "    y0 = Math.floor(y0) + 0.5;\n",
       "    x1 = Math.floor(x1) + 0.5;\n",
       "    y1 = Math.floor(y1) + 0.5;\n",
       "    var min_x = Math.min(x0, x1);\n",
       "    var min_y = Math.min(y0, y1);\n",
       "    var width = Math.abs(x1 - x0);\n",
       "    var height = Math.abs(y1 - y0);\n",
       "\n",
       "    fig.rubberband_context.clearRect(\n",
       "        0, 0, fig.canvas.width, fig.canvas.height);\n",
       "\n",
       "    fig.rubberband_context.strokeRect(min_x, min_y, width, height);\n",
       "}\n",
       "\n",
       "mpl.figure.prototype.handle_figure_label = function(fig, msg) {\n",
       "    // Updates the figure title.\n",
       "    fig.header.textContent = msg['label'];\n",
       "}\n",
       "\n",
       "mpl.figure.prototype.handle_cursor = function(fig, msg) {\n",
       "    var cursor = msg['cursor'];\n",
       "    switch(cursor)\n",
       "    {\n",
       "    case 0:\n",
       "        cursor = 'pointer';\n",
       "        break;\n",
       "    case 1:\n",
       "        cursor = 'default';\n",
       "        break;\n",
       "    case 2:\n",
       "        cursor = 'crosshair';\n",
       "        break;\n",
       "    case 3:\n",
       "        cursor = 'move';\n",
       "        break;\n",
       "    }\n",
       "    fig.rubberband_canvas.style.cursor = cursor;\n",
       "}\n",
       "\n",
       "mpl.figure.prototype.handle_message = function(fig, msg) {\n",
       "    fig.message.textContent = msg['message'];\n",
       "}\n",
       "\n",
       "mpl.figure.prototype.handle_draw = function(fig, msg) {\n",
       "    // Request the server to send over a new figure.\n",
       "    fig.send_draw_message();\n",
       "}\n",
       "\n",
       "mpl.figure.prototype.handle_image_mode = function(fig, msg) {\n",
       "    fig.image_mode = msg['mode'];\n",
       "}\n",
       "\n",
       "mpl.figure.prototype.updated_canvas_event = function() {\n",
       "    // Called whenever the canvas gets updated.\n",
       "    this.send_message(\"ack\", {});\n",
       "}\n",
       "\n",
       "// A function to construct a web socket function for onmessage handling.\n",
       "// Called in the figure constructor.\n",
       "mpl.figure.prototype._make_on_message_function = function(fig) {\n",
       "    return function socket_on_message(evt) {\n",
       "        if (evt.data instanceof Blob) {\n",
       "            /* FIXME: We get \"Resource interpreted as Image but\n",
       "             * transferred with MIME type text/plain:\" errors on\n",
       "             * Chrome.  But how to set the MIME type?  It doesn't seem\n",
       "             * to be part of the websocket stream */\n",
       "            evt.data.type = \"image/png\";\n",
       "\n",
       "            /* Free the memory for the previous frames */\n",
       "            if (fig.imageObj.src) {\n",
       "                (window.URL || window.webkitURL).revokeObjectURL(\n",
       "                    fig.imageObj.src);\n",
       "            }\n",
       "\n",
       "            fig.imageObj.src = (window.URL || window.webkitURL).createObjectURL(\n",
       "                evt.data);\n",
       "            fig.updated_canvas_event();\n",
       "            fig.waiting = false;\n",
       "            return;\n",
       "        }\n",
       "        else if (typeof evt.data === 'string' && evt.data.slice(0, 21) == \"data:image/png;base64\") {\n",
       "            fig.imageObj.src = evt.data;\n",
       "            fig.updated_canvas_event();\n",
       "            fig.waiting = false;\n",
       "            return;\n",
       "        }\n",
       "\n",
       "        var msg = JSON.parse(evt.data);\n",
       "        var msg_type = msg['type'];\n",
       "\n",
       "        // Call the  \"handle_{type}\" callback, which takes\n",
       "        // the figure and JSON message as its only arguments.\n",
       "        try {\n",
       "            var callback = fig[\"handle_\" + msg_type];\n",
       "        } catch (e) {\n",
       "            console.log(\"No handler for the '\" + msg_type + \"' message type: \", msg);\n",
       "            return;\n",
       "        }\n",
       "\n",
       "        if (callback) {\n",
       "            try {\n",
       "                // console.log(\"Handling '\" + msg_type + \"' message: \", msg);\n",
       "                callback(fig, msg);\n",
       "            } catch (e) {\n",
       "                console.log(\"Exception inside the 'handler_\" + msg_type + \"' callback:\", e, e.stack, msg);\n",
       "            }\n",
       "        }\n",
       "    };\n",
       "}\n",
       "\n",
       "// from http://stackoverflow.com/questions/1114465/getting-mouse-location-in-canvas\n",
       "mpl.findpos = function(e) {\n",
       "    //this section is from http://www.quirksmode.org/js/events_properties.html\n",
       "    var targ;\n",
       "    if (!e)\n",
       "        e = window.event;\n",
       "    if (e.target)\n",
       "        targ = e.target;\n",
       "    else if (e.srcElement)\n",
       "        targ = e.srcElement;\n",
       "    if (targ.nodeType == 3) // defeat Safari bug\n",
       "        targ = targ.parentNode;\n",
       "\n",
       "    // jQuery normalizes the pageX and pageY\n",
       "    // pageX,Y are the mouse positions relative to the document\n",
       "    // offset() returns the position of the element relative to the document\n",
       "    var x = e.pageX - $(targ).offset().left;\n",
       "    var y = e.pageY - $(targ).offset().top;\n",
       "\n",
       "    return {\"x\": x, \"y\": y};\n",
       "};\n",
       "\n",
       "/*\n",
       " * return a copy of an object with only non-object keys\n",
       " * we need this to avoid circular references\n",
       " * http://stackoverflow.com/a/24161582/3208463\n",
       " */\n",
       "function simpleKeys (original) {\n",
       "  return Object.keys(original).reduce(function (obj, key) {\n",
       "    if (typeof original[key] !== 'object')\n",
       "        obj[key] = original[key]\n",
       "    return obj;\n",
       "  }, {});\n",
       "}\n",
       "\n",
       "mpl.figure.prototype.mouse_event = function(event, name) {\n",
       "    var canvas_pos = mpl.findpos(event)\n",
       "\n",
       "    if (name === 'button_press')\n",
       "    {\n",
       "        this.canvas.focus();\n",
       "        this.canvas_div.focus();\n",
       "    }\n",
       "\n",
       "    var x = canvas_pos.x * mpl.ratio;\n",
       "    var y = canvas_pos.y * mpl.ratio;\n",
       "\n",
       "    this.send_message(name, {x: x, y: y, button: event.button,\n",
       "                             step: event.step,\n",
       "                             guiEvent: simpleKeys(event)});\n",
       "\n",
       "    /* This prevents the web browser from automatically changing to\n",
       "     * the text insertion cursor when the button is pressed.  We want\n",
       "     * to control all of the cursor setting manually through the\n",
       "     * 'cursor' event from matplotlib */\n",
       "    event.preventDefault();\n",
       "    return false;\n",
       "}\n",
       "\n",
       "mpl.figure.prototype._key_event_extra = function(event, name) {\n",
       "    // Handle any extra behaviour associated with a key event\n",
       "}\n",
       "\n",
       "mpl.figure.prototype.key_event = function(event, name) {\n",
       "\n",
       "    // Prevent repeat events\n",
       "    if (name == 'key_press')\n",
       "    {\n",
       "        if (event.which === this._key)\n",
       "            return;\n",
       "        else\n",
       "            this._key = event.which;\n",
       "    }\n",
       "    if (name == 'key_release')\n",
       "        this._key = null;\n",
       "\n",
       "    var value = '';\n",
       "    if (event.ctrlKey && event.which != 17)\n",
       "        value += \"ctrl+\";\n",
       "    if (event.altKey && event.which != 18)\n",
       "        value += \"alt+\";\n",
       "    if (event.shiftKey && event.which != 16)\n",
       "        value += \"shift+\";\n",
       "\n",
       "    value += 'k';\n",
       "    value += event.which.toString();\n",
       "\n",
       "    this._key_event_extra(event, name);\n",
       "\n",
       "    this.send_message(name, {key: value,\n",
       "                             guiEvent: simpleKeys(event)});\n",
       "    return false;\n",
       "}\n",
       "\n",
       "mpl.figure.prototype.toolbar_button_onclick = function(name) {\n",
       "    if (name == 'download') {\n",
       "        this.handle_save(this, null);\n",
       "    } else {\n",
       "        this.send_message(\"toolbar_button\", {name: name});\n",
       "    }\n",
       "};\n",
       "\n",
       "mpl.figure.prototype.toolbar_button_onmouseover = function(tooltip) {\n",
       "    this.message.textContent = tooltip;\n",
       "};\n",
       "mpl.toolbar_items = [[\"Home\", \"Reset original view\", \"fa fa-home icon-home\", \"home\"], [\"Back\", \"Back to previous view\", \"fa fa-arrow-left icon-arrow-left\", \"back\"], [\"Forward\", \"Forward to next view\", \"fa fa-arrow-right icon-arrow-right\", \"forward\"], [\"\", \"\", \"\", \"\"], [\"Pan\", \"Pan axes with left mouse, zoom with right\", \"fa fa-arrows icon-move\", \"pan\"], [\"Zoom\", \"Zoom to rectangle\", \"fa fa-square-o icon-check-empty\", \"zoom\"], [\"\", \"\", \"\", \"\"], [\"Download\", \"Download plot\", \"fa fa-floppy-o icon-save\", \"download\"]];\n",
       "\n",
       "mpl.extensions = [\"eps\", \"jpeg\", \"pdf\", \"png\", \"ps\", \"raw\", \"svg\", \"tif\"];\n",
       "\n",
       "mpl.default_extension = \"png\";var comm_websocket_adapter = function(comm) {\n",
       "    // Create a \"websocket\"-like object which calls the given IPython comm\n",
       "    // object with the appropriate methods. Currently this is a non binary\n",
       "    // socket, so there is still some room for performance tuning.\n",
       "    var ws = {};\n",
       "\n",
       "    ws.close = function() {\n",
       "        comm.close()\n",
       "    };\n",
       "    ws.send = function(m) {\n",
       "        //console.log('sending', m);\n",
       "        comm.send(m);\n",
       "    };\n",
       "    // Register the callback with on_msg.\n",
       "    comm.on_msg(function(msg) {\n",
       "        //console.log('receiving', msg['content']['data'], msg);\n",
       "        // Pass the mpl event to the overridden (by mpl) onmessage function.\n",
       "        ws.onmessage(msg['content']['data'])\n",
       "    });\n",
       "    return ws;\n",
       "}\n",
       "\n",
       "mpl.mpl_figure_comm = function(comm, msg) {\n",
       "    // This is the function which gets called when the mpl process\n",
       "    // starts-up an IPython Comm through the \"matplotlib\" channel.\n",
       "\n",
       "    var id = msg.content.data.id;\n",
       "    // Get hold of the div created by the display call when the Comm\n",
       "    // socket was opened in Python.\n",
       "    var element = $(\"#\" + id);\n",
       "    var ws_proxy = comm_websocket_adapter(comm)\n",
       "\n",
       "    function ondownload(figure, format) {\n",
       "        window.open(figure.imageObj.src);\n",
       "    }\n",
       "\n",
       "    var fig = new mpl.figure(id, ws_proxy,\n",
       "                           ondownload,\n",
       "                           element.get(0));\n",
       "\n",
       "    // Call onopen now - mpl needs it, as it is assuming we've passed it a real\n",
       "    // web socket which is closed, not our websocket->open comm proxy.\n",
       "    ws_proxy.onopen();\n",
       "\n",
       "    fig.parent_element = element.get(0);\n",
       "    fig.cell_info = mpl.find_output_cell(\"<div id='\" + id + \"'></div>\");\n",
       "    if (!fig.cell_info) {\n",
       "        console.error(\"Failed to find cell for figure\", id, fig);\n",
       "        return;\n",
       "    }\n",
       "\n",
       "    var output_index = fig.cell_info[2]\n",
       "    var cell = fig.cell_info[0];\n",
       "\n",
       "};\n",
       "\n",
       "mpl.figure.prototype.handle_close = function(fig, msg) {\n",
       "    var width = fig.canvas.width/mpl.ratio\n",
       "    fig.root.unbind('remove')\n",
       "\n",
       "    // Update the output cell to use the data from the current canvas.\n",
       "    fig.push_to_output();\n",
       "    var dataURL = fig.canvas.toDataURL();\n",
       "    // Re-enable the keyboard manager in IPython - without this line, in FF,\n",
       "    // the notebook keyboard shortcuts fail.\n",
       "    IPython.keyboard_manager.enable()\n",
       "    $(fig.parent_element).html('<img src=\"' + dataURL + '\" width=\"' + width + '\">');\n",
       "    fig.close_ws(fig, msg);\n",
       "}\n",
       "\n",
       "mpl.figure.prototype.close_ws = function(fig, msg){\n",
       "    fig.send_message('closing', msg);\n",
       "    // fig.ws.close()\n",
       "}\n",
       "\n",
       "mpl.figure.prototype.push_to_output = function(remove_interactive) {\n",
       "    // Turn the data on the canvas into data in the output cell.\n",
       "    var width = this.canvas.width/mpl.ratio\n",
       "    var dataURL = this.canvas.toDataURL();\n",
       "    this.cell_info[1]['text/html'] = '<img src=\"' + dataURL + '\" width=\"' + width + '\">';\n",
       "}\n",
       "\n",
       "mpl.figure.prototype.updated_canvas_event = function() {\n",
       "    // Tell IPython that the notebook contents must change.\n",
       "    IPython.notebook.set_dirty(true);\n",
       "    this.send_message(\"ack\", {});\n",
       "    var fig = this;\n",
       "    // Wait a second, then push the new image to the DOM so\n",
       "    // that it is saved nicely (might be nice to debounce this).\n",
       "    setTimeout(function () { fig.push_to_output() }, 1000);\n",
       "}\n",
       "\n",
       "mpl.figure.prototype._init_toolbar = function() {\n",
       "    var fig = this;\n",
       "\n",
       "    var nav_element = $('<div/>')\n",
       "    nav_element.attr('style', 'width: 100%');\n",
       "    this.root.append(nav_element);\n",
       "\n",
       "    // Define a callback function for later on.\n",
       "    function toolbar_event(event) {\n",
       "        return fig.toolbar_button_onclick(event['data']);\n",
       "    }\n",
       "    function toolbar_mouse_event(event) {\n",
       "        return fig.toolbar_button_onmouseover(event['data']);\n",
       "    }\n",
       "\n",
       "    for(var toolbar_ind in mpl.toolbar_items){\n",
       "        var name = mpl.toolbar_items[toolbar_ind][0];\n",
       "        var tooltip = mpl.toolbar_items[toolbar_ind][1];\n",
       "        var image = mpl.toolbar_items[toolbar_ind][2];\n",
       "        var method_name = mpl.toolbar_items[toolbar_ind][3];\n",
       "\n",
       "        if (!name) { continue; };\n",
       "\n",
       "        var button = $('<button class=\"btn btn-default\" href=\"#\" title=\"' + name + '\"><i class=\"fa ' + image + ' fa-lg\"></i></button>');\n",
       "        button.click(method_name, toolbar_event);\n",
       "        button.mouseover(tooltip, toolbar_mouse_event);\n",
       "        nav_element.append(button);\n",
       "    }\n",
       "\n",
       "    // Add the status bar.\n",
       "    var status_bar = $('<span class=\"mpl-message\" style=\"text-align:right; float: right;\"/>');\n",
       "    nav_element.append(status_bar);\n",
       "    this.message = status_bar[0];\n",
       "\n",
       "    // Add the close button to the window.\n",
       "    var buttongrp = $('<div class=\"btn-group inline pull-right\"></div>');\n",
       "    var button = $('<button class=\"btn btn-mini btn-primary\" href=\"#\" title=\"Stop Interaction\"><i class=\"fa fa-power-off icon-remove icon-large\"></i></button>');\n",
       "    button.click(function (evt) { fig.handle_close(fig, {}); } );\n",
       "    button.mouseover('Stop Interaction', toolbar_mouse_event);\n",
       "    buttongrp.append(button);\n",
       "    var titlebar = this.root.find($('.ui-dialog-titlebar'));\n",
       "    titlebar.prepend(buttongrp);\n",
       "}\n",
       "\n",
       "mpl.figure.prototype._root_extra_style = function(el){\n",
       "    var fig = this\n",
       "    el.on(\"remove\", function(){\n",
       "\tfig.close_ws(fig, {});\n",
       "    });\n",
       "}\n",
       "\n",
       "mpl.figure.prototype._canvas_extra_style = function(el){\n",
       "    // this is important to make the div 'focusable\n",
       "    el.attr('tabindex', 0)\n",
       "    // reach out to IPython and tell the keyboard manager to turn it's self\n",
       "    // off when our div gets focus\n",
       "\n",
       "    // location in version 3\n",
       "    if (IPython.notebook.keyboard_manager) {\n",
       "        IPython.notebook.keyboard_manager.register_events(el);\n",
       "    }\n",
       "    else {\n",
       "        // location in version 2\n",
       "        IPython.keyboard_manager.register_events(el);\n",
       "    }\n",
       "\n",
       "}\n",
       "\n",
       "mpl.figure.prototype._key_event_extra = function(event, name) {\n",
       "    var manager = IPython.notebook.keyboard_manager;\n",
       "    if (!manager)\n",
       "        manager = IPython.keyboard_manager;\n",
       "\n",
       "    // Check for shift+enter\n",
       "    if (event.shiftKey && event.which == 13) {\n",
       "        this.canvas_div.blur();\n",
       "        event.shiftKey = false;\n",
       "        // Send a \"J\" for go to next cell\n",
       "        event.which = 74;\n",
       "        event.keyCode = 74;\n",
       "        manager.command_mode();\n",
       "        manager.handle_keydown(event);\n",
       "    }\n",
       "}\n",
       "\n",
       "mpl.figure.prototype.handle_save = function(fig, msg) {\n",
       "    fig.ondownload(fig, null);\n",
       "}\n",
       "\n",
       "\n",
       "mpl.find_output_cell = function(html_output) {\n",
       "    // Return the cell and output element which can be found *uniquely* in the notebook.\n",
       "    // Note - this is a bit hacky, but it is done because the \"notebook_saving.Notebook\"\n",
       "    // IPython event is triggered only after the cells have been serialised, which for\n",
       "    // our purposes (turning an active figure into a static one), is too late.\n",
       "    var cells = IPython.notebook.get_cells();\n",
       "    var ncells = cells.length;\n",
       "    for (var i=0; i<ncells; i++) {\n",
       "        var cell = cells[i];\n",
       "        if (cell.cell_type === 'code'){\n",
       "            for (var j=0; j<cell.output_area.outputs.length; j++) {\n",
       "                var data = cell.output_area.outputs[j];\n",
       "                if (data.data) {\n",
       "                    // IPython >= 3 moved mimebundle to data attribute of output\n",
       "                    data = data.data;\n",
       "                }\n",
       "                if (data['text/html'] == html_output) {\n",
       "                    return [cell, data, j];\n",
       "                }\n",
       "            }\n",
       "        }\n",
       "    }\n",
       "}\n",
       "\n",
       "// Register the function which deals with the matplotlib target/channel.\n",
       "// The kernel may be null if the page has been refreshed.\n",
       "if (IPython.notebook.kernel != null) {\n",
       "    IPython.notebook.kernel.comm_manager.register_target('matplotlib', mpl.mpl_figure_comm);\n",
       "}\n"
      ],
      "text/plain": [
       "<IPython.core.display.Javascript object>"
      ]
     },
     "metadata": {},
     "output_type": "display_data"
    },
    {
     "data": {
      "text/html": [
       "<img src=\"data:image/png;base64,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\" width=\"640\">"
      ],
      "text/plain": [
       "<IPython.core.display.HTML object>"
      ]
     },
     "metadata": {},
     "output_type": "display_data"
    }
   ],
   "source": [
    "gamma = np.linspace(0,1,100).reshape(100,1)\n",
    "\n",
    "res = gamma@payment_matrix.min(axis=0).reshape(1,3) + (1-gamma)@payment_matrix.max(axis=0).reshape(1,3)\n",
    "\n",
    "a = np.array(a)\n",
    "plt.figure()\n",
    "plt.plot(gamma, np.argmax(res, axis=1))\n",
    "plt.grid()"
   ]
  },
  {
   "cell_type": "code",
   "execution_count": null,
   "metadata": {},
   "outputs": [],
   "source": []
  },
  {
   "cell_type": "code",
   "execution_count": null,
   "metadata": {},
   "outputs": [],
   "source": []
  }
 ],
 "metadata": {
  "kernelspec": {
   "display_name": "Python 3",
   "language": "python",
   "name": "python3"
  },
  "language_info": {
   "codemirror_mode": {
    "name": "ipython",
    "version": 3
   },
   "file_extension": ".py",
   "mimetype": "text/x-python",
   "name": "python",
   "nbconvert_exporter": "python",
   "pygments_lexer": "ipython3",
   "version": "3.7.1"
  },
  "latex_envs": {
   "LaTeX_envs_menu_present": true,
   "autoclose": false,
   "autocomplete": true,
   "bibliofile": "biblio.bib",
   "cite_by": "apalike",
   "current_citInitial": 1,
   "eqLabelWithNumbers": true,
   "eqNumInitial": 1,
   "hotkeys": {
    "equation": "Ctrl-E",
    "itemize": "Ctrl-I"
   },
   "labels_anchors": false,
   "latex_user_defs": false,
   "report_style_numbering": false,
   "user_envs_cfg": false
  }
 },
 "nbformat": 4,
 "nbformat_minor": 2
}
