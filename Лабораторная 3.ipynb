{
 "cells": [
  {
   "cell_type": "markdown",
   "metadata": {},
   "source": [
    "\n",
    "# Буканов Никита, Лабораторная работа №3"
   ]
  },
  {
   "cell_type": "code",
   "execution_count": 2,
   "metadata": {
    "ExecuteTime": {
     "end_time": "2019-03-22T14:35:22.486085Z",
     "start_time": "2019-03-22T14:35:21.786918Z"
    }
   },
   "outputs": [],
   "source": [
    "%matplotlib notebook\n",
    "\n",
    "import numpy as np\n",
    "import pandas as pd\n",
    "from scipy.optimize import linprog\n",
    "import matplotlib.pyplot as plt"
   ]
  },
  {
   "cell_type": "markdown",
   "metadata": {},
   "source": [
    "## Задание 1\n",
    "\n",
    "Игроки А и В записывают цифры 1 и 2. Игра состоит в том, что, кроме своей цифры каждый игрок записывает еще и ту цифру, которую по его мнению, записал соперник. Если оба игрока угадали или оба ошиблись, то партия заканчивается вничью; если же угадал только один, то он получает столько очков, какова сумма записанных им цифр. \n",
    "\n",
    "### Платежная матрица игры\n",
    "\\begin{equation}\n",
    "  A = \\begin{bmatrix}\n",
    "    0 & 2 & -3 & 0 \\\\\n",
    "    -2 &  0 &  0  & 3 \\\\\n",
    "    3 & 0 & 0 & -4 \\\\\n",
    "    0 &-3 & 4 & 0\n",
    "  \\end{bmatrix}\n",
    "\\end{equation}"
   ]
  },
  {
   "cell_type": "code",
   "execution_count": 6,
   "metadata": {
    "ExecuteTime": {
     "end_time": "2019-03-22T14:35:40.982905Z",
     "start_time": "2019-03-22T14:35:40.978905Z"
    }
   },
   "outputs": [],
   "source": [
    "payment_matrix = np.array([[0, 2, -3, 0],\n",
    "              [-2, 0, 0, 3],\n",
    "              [3, 0, 0, -4],\n",
    "              [0, -3, 4, 0]])"
   ]
  },
  {
   "cell_type": "markdown",
   "metadata": {
    "variables": {
     "np.max(np.min(payment_matrix, axis = 1))": "-2",
     "np.min(np.max(payment_matrix, axis = 0))": "2"
    }
   },
   "source": [
    "Точная нижняя цена игры: {{np.max(np.min(payment_matrix, axis = 1))}}\n",
    "\n",
    "Точная верхняя цена игры {{np.min(np.max(payment_matrix, axis = 0))}}"
   ]
  },
  {
   "cell_type": "code",
   "execution_count": 7,
   "metadata": {
    "ExecuteTime": {
     "end_time": "2019-03-22T14:35:47.401758Z",
     "start_time": "2019-03-22T14:35:47.395765Z"
    }
   },
   "outputs": [],
   "source": [
    "x = linprog(-np.ones(4), payment_matrix+4, np.ones(4))\n",
    "v = -1/x['fun']\n",
    "p = x['x']*v"
   ]
  },
  {
   "cell_type": "code",
   "execution_count": 9,
   "metadata": {
    "ExecuteTime": {
     "end_time": "2019-03-22T14:35:55.601566Z",
     "start_time": "2019-03-22T14:35:55.595574Z"
    }
   },
   "outputs": [],
   "source": [
    "x = linprog(np.ones(4), -payment_matrix.T-4, -np.ones(4))\n",
    "v = 1/x['fun']\n",
    "q = x['x']*v\n",
    "v_ = np.sum((payment_matrix*p).T*q)"
   ]
  },
  {
   "cell_type": "markdown",
   "metadata": {
    "ExecuteTime": {
     "end_time": "2019-03-22T14:25:51.992968Z",
     "start_time": "2019-03-22T14:25:51.987978Z"
    },
    "variables": {
     "p": "array([0.00000000e+00, 6.00000000e-01, 4.00000000e-01, 5.55111512e-17])",
     "q": "array([0.        , 0.57142857, 0.42857143, 0.        ])",
     "v_": "-1.232595164407831e-32"
    }
   },
   "source": [
    "Оптимальная стратегия игрока A: {{p}}\n",
    "\n",
    "Оптимальная стратегия игрока B: {{q}}\n",
    "\n",
    "Цена игры: {{v_}}"
   ]
  },
  {
   "cell_type": "markdown",
   "metadata": {},
   "source": [
    "# Задание №2\n",
    "\n",
    "Конкурирующие фирмы А и В производят однородный сезонный товар, пользующийся спросом в течение n единиц времени. Доход от продажи товара в единицу времени составляет С ден. ед. Фирма В, будучи более состоятельной, в ходе конкурентной борьбы стремится вытеснить фирму А с рынка сбыта, способствуя своими действиями минимизации ее дохода, не считаясь при этом с временными потерями части своего дохода в надежде наверстать упущенное в будущем. Действующее законодательство не позволяет использовать для этого заведомое занижение цены на товар (прибегать к демпинговым ценам). Единственным допустимым способом достижения своей цели для фирмы В (как и для фирмы А в целях защиты своих интересов на рынке сбыта) остается повышение качества товара и надлежащий выбор момента времени поставки его на рынок сбыта. Уровень спроса на товар зависит от его качества, и в данный момент реализуется тот товар, качество которого выше. Повышение же качества требует дополнительных затрат времени на совершенствование технологии его изготовления и переналадку оборудования. Поэтому будем предполагать, что качество товара тем выше, чем позже он поступает на рынок.\n",
    "\n",
    "С помощью статистического моделирования убедительно(!) подтвердите и проиллюстрируйте графиками, что оптимальные смешанные стратегии игроков описываются следующими законами распределения:\n",
    "\n",
    "p*=[3/7 0 2/7 2/7 0] и q*=[0 2/7 4/7 1/7 0] \n",
    "\n",
    "Что можно сказать о цене игры?"
   ]
  },
  {
   "cell_type": "code",
   "execution_count": 10,
   "metadata": {
    "ExecuteTime": {
     "end_time": "2019-03-22T14:35:59.923549Z",
     "start_time": "2019-03-22T14:35:59.899542Z"
    }
   },
   "outputs": [
    {
     "data": {
      "text/html": [
       "<div>\n",
       "<style scoped>\n",
       "    .dataframe tbody tr th:only-of-type {\n",
       "        vertical-align: middle;\n",
       "    }\n",
       "\n",
       "    .dataframe tbody tr th {\n",
       "        vertical-align: top;\n",
       "    }\n",
       "\n",
       "    .dataframe thead th {\n",
       "        text-align: right;\n",
       "    }\n",
       "</style>\n",
       "<table border=\"1\" class=\"dataframe\">\n",
       "  <thead>\n",
       "    <tr style=\"text-align: right;\">\n",
       "      <th></th>\n",
       "      <th>1</th>\n",
       "      <th>2</th>\n",
       "      <th>3</th>\n",
       "      <th>4</th>\n",
       "      <th>5</th>\n",
       "    </tr>\n",
       "  </thead>\n",
       "  <tbody>\n",
       "    <tr>\n",
       "      <th>1</th>\n",
       "      <td>250</td>\n",
       "      <td>100</td>\n",
       "      <td>200</td>\n",
       "      <td>300</td>\n",
       "      <td>400</td>\n",
       "    </tr>\n",
       "    <tr>\n",
       "      <th>2</th>\n",
       "      <td>400</td>\n",
       "      <td>200</td>\n",
       "      <td>100</td>\n",
       "      <td>200</td>\n",
       "      <td>300</td>\n",
       "    </tr>\n",
       "    <tr>\n",
       "      <th>3</th>\n",
       "      <td>300</td>\n",
       "      <td>300</td>\n",
       "      <td>150</td>\n",
       "      <td>100</td>\n",
       "      <td>200</td>\n",
       "    </tr>\n",
       "    <tr>\n",
       "      <th>4</th>\n",
       "      <td>200</td>\n",
       "      <td>200</td>\n",
       "      <td>200</td>\n",
       "      <td>100</td>\n",
       "      <td>100</td>\n",
       "    </tr>\n",
       "    <tr>\n",
       "      <th>5</th>\n",
       "      <td>100</td>\n",
       "      <td>100</td>\n",
       "      <td>100</td>\n",
       "      <td>100</td>\n",
       "      <td>50</td>\n",
       "    </tr>\n",
       "  </tbody>\n",
       "</table>\n",
       "</div>"
      ],
      "text/plain": [
       "     1    2    3    4    5\n",
       "1  250  100  200  300  400\n",
       "2  400  200  100  200  300\n",
       "3  300  300  150  100  200\n",
       "4  200  200  200  100  100\n",
       "5  100  100  100  100   50"
      ]
     },
     "execution_count": 10,
     "metadata": {},
     "output_type": "execute_result"
    }
   ],
   "source": [
    "n = 5\n",
    "C = 100\n",
    "\n",
    "combinations = np.arange(1, n+1)\n",
    "payment_matrix = pd.DataFrame(columns = combinations, index = combinations)\n",
    "for i in combinations:\n",
    "    for j in combinations:\n",
    "        if i < j:  \n",
    "            payment_matrix[j][i] = C*(j-i)\n",
    "        if i == j:  \n",
    "            payment_matrix[j][i] = C*(n-i+1)/2\n",
    "        if i > j:  \n",
    "            payment_matrix[j][i] = C*(n-i+1)\n",
    "payment_matrix"
   ]
  },
  {
   "cell_type": "markdown",
   "metadata": {
    "ExecuteTime": {
     "end_time": "2019-03-22T14:28:55.585538Z",
     "start_time": "2019-03-22T14:28:55.579539Z"
    },
    "variables": {
     "np.max(np.min(payment_matrix, axis = 1))": "100.0",
     "np.min(np.max(payment_matrix, axis = 0))": "200.0"
    }
   },
   "source": [
    "Точная нижняя цена игры: {{np.max(np.min(payment_matrix, axis = 1))}}\n",
    "\n",
    "Точная верхняя цена игры {{np.min(np.max(payment_matrix, axis = 0))}}"
   ]
  },
  {
   "cell_type": "code",
   "execution_count": 11,
   "metadata": {
    "ExecuteTime": {
     "end_time": "2019-03-22T14:36:26.712708Z",
     "start_time": "2019-03-22T14:36:26.699695Z"
    }
   },
   "outputs": [],
   "source": [
    "payment_matrix = np.array(payment_matrix)\n",
    "x = linprog(-np.ones(5), payment_matrix, np.ones(5))\n",
    "v = -1/x['fun']\n",
    "p = x['x']*v\n",
    "\n",
    "x = linprog(np.ones(5), -payment_matrix.T, -np.ones(5))\n",
    "v = 1/x['fun']\n",
    "q = x['x']*v\n",
    "\n",
    "v_ = np.sum((payment_matrix*p).T*q)"
   ]
  },
  {
   "cell_type": "markdown",
   "metadata": {
    "variables": {
     "p": "array([0.        , 0.28571429, 0.57142857, 0.14285714, 0.        ])",
     "q": "array([0.42857143, 0.        , 0.28571429, 0.28571429, 0.        ])",
     "v_": "185.71428571428575"
    }
   },
   "source": [
    "Цена игры: {{v_}}\n",
    "\n",
    "Оптимальная стратегия игрока A: {{p}}\n",
    "\n",
    "Оптимальная стратегия игрока B: {{q}}"
   ]
  }
 ],
 "metadata": {
  "kernelspec": {
   "display_name": "Python 3",
   "language": "python",
   "name": "python3"
  },
  "language_info": {
   "codemirror_mode": {
    "name": "ipython",
    "version": 3
   },
   "file_extension": ".py",
   "mimetype": "text/x-python",
   "name": "python",
   "nbconvert_exporter": "python",
   "pygments_lexer": "ipython3",
   "version": "3.7.1"
  },
  "latex_envs": {
   "LaTeX_envs_menu_present": true,
   "autoclose": false,
   "autocomplete": true,
   "bibliofile": "biblio.bib",
   "cite_by": "apalike",
   "current_citInitial": 1,
   "eqLabelWithNumbers": true,
   "eqNumInitial": 1,
   "hotkeys": {
    "equation": "Ctrl-E",
    "itemize": "Ctrl-I"
   },
   "labels_anchors": false,
   "latex_user_defs": false,
   "report_style_numbering": false,
   "user_envs_cfg": false
  },
  "notify_time": "5"
 },
 "nbformat": 4,
 "nbformat_minor": 2
}
